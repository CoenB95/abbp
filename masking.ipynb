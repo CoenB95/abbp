{
 "cells": [
  {
   "cell_type": "code",
   "execution_count": 2,
   "metadata": {},
   "outputs": [],
   "source": [
    "import numpy as np\n",
    "from imutils.video import VideoStream\n",
    "import cv2\n",
    "import imutils\n",
    "# import tensorflow as tf\n",
    "# from keras.models import Sequential\n",
    "# from keras.layers import Dense\n",
    "# from keras.optimizers import Adam\n",
    "# from collections import deque"
   ]
  },
  {
   "cell_type": "code",
   "execution_count": 8,
   "metadata": {},
   "outputs": [],
   "source": [
    "vs = cv2.VideoCapture(1)\n",
    "\n",
    "while (vs.isOpened()):\n",
    "    # Capture frame-by-frame\n",
    "    ret, frame = vs.read()    \n",
    "#     resize frame\n",
    "    frame = imutils.resize(frame, width=600)\n",
    "\n",
    "    # show frames to screen\n",
    "    cv2.imshow(\"Frame\", np.hstack([frame]))\n",
    "    if cv2.waitKey(1) & 0xFF == ord('q'):\n",
    "        break\n",
    "    \n",
    "vs.release()\n",
    "cv2.destroyAllWindows()"
   ]
  },
  {
   "cell_type": "code",
   "execution_count": 25,
   "metadata": {},
   "outputs": [
    {
     "ename": "RuntimeError",
     "evalue": "No device connected",
     "output_type": "error",
     "traceback": [
      "\u001b[0;31m---------------------------------------------------------------------------\u001b[0m",
      "\u001b[0;31mRuntimeError\u001b[0m                              Traceback (most recent call last)",
      "\u001b[0;32m<ipython-input-25-fca09bcbf7f9>\u001b[0m in \u001b[0;36m<module>\u001b[0;34m\u001b[0m\n\u001b[1;32m      9\u001b[0m \u001b[0;34m\u001b[0m\u001b[0m\n\u001b[1;32m     10\u001b[0m \u001b[0;31m# Start streaming with requested config\u001b[0m\u001b[0;34m\u001b[0m\u001b[0;34m\u001b[0m\u001b[0;34m\u001b[0m\u001b[0m\n\u001b[0;32m---> 11\u001b[0;31m \u001b[0mpipe\u001b[0m\u001b[0;34m.\u001b[0m\u001b[0mstart\u001b[0m\u001b[0;34m(\u001b[0m\u001b[0mcfg\u001b[0m\u001b[0;34m)\u001b[0m\u001b[0;34m\u001b[0m\u001b[0;34m\u001b[0m\u001b[0m\n\u001b[0m\u001b[1;32m     12\u001b[0m \u001b[0;34m\u001b[0m\u001b[0m\n\u001b[1;32m     13\u001b[0m \u001b[0;32mif\u001b[0m \u001b[0mcfg\u001b[0m\u001b[0;34m.\u001b[0m\u001b[0mis_streaming\u001b[0m\u001b[0;34m(\u001b[0m\u001b[0;34m)\u001b[0m\u001b[0;34m:\u001b[0m\u001b[0;34m\u001b[0m\u001b[0;34m\u001b[0m\u001b[0m\n",
      "\u001b[0;31mRuntimeError\u001b[0m: No device connected"
     ]
    }
   ],
   "source": [
    "# Declare RealSense pipeline, encapsulating the actual device and sensors\n",
    "pipe = rs.pipeline()\n",
    "\n",
    "# Build config object and request pose data\n",
    "cfg = rs.config()\n",
    "cfg.enable_stream(rs.stream.depth, 1280, 720, rs.format.z16, 6)\n",
    "cfg.enable_stream(rs.stream.pose)\n",
    "# cfg.enable_stream(rs.stream.pose, 640, 360, rs.format.z16, 30)\n",
    "\n",
    "# Start streaming with requested config\n",
    "pipe.start(cfg)\n",
    "\n",
    "if cfg.is_streaming():\n",
    "    try:\n",
    "        for _ in range(500):\n",
    "            # Wait for the next set of frames from the camera\n",
    "            frames = pipe.wait_for_frames()\n",
    "\n",
    "            # Fetch pose frame\n",
    "            pose = frames.get_pose_frame()\n",
    "            if pose:\n",
    "                # Print some of the pose data to the terminal\n",
    "                data = pose.get_pose_data()\n",
    "                print(\"Frame #{}\".format(pose.frame_number))\n",
    "                print(\"Position: {}\".format(data.translation))\n",
    "                print(\"Velocity: {}\".format(data.velocity))\n",
    "                print(\"Acceleration: {}\\n\".format(data.acceleration))\n",
    "\n",
    "    finally:\n",
    "        pipe.stop()"
   ]
  },
  {
   "cell_type": "code",
   "execution_count": 42,
   "metadata": {},
   "outputs": [
    {
     "name": "stdout",
     "output_type": "stream",
     "text": [
      "Slow callback\n",
      "No device connected\n"
     ]
    }
   ],
   "source": [
    "import pyrealsense2 as rs\n",
    "import time\n",
    "\n",
    "# Implement two \"processing\" functions, each of which\n",
    "# occassionally lags and takes longer to process a frame.\n",
    "def slow_processing(frame):\n",
    "    n = frame.get_frame_number() \n",
    "    if n % 20 == 0:\n",
    "        time.sleep(1/4)\n",
    "    print(n)\n",
    "\n",
    "def slower_processing(frame):\n",
    "    n = frame.get_frame_number() \n",
    "    if n % 20 == 0:\n",
    "        time.sleep(1)\n",
    "    print(n)\n",
    "\n",
    "try:\n",
    "    # Create a pipeline\n",
    "    pipeline = rs.pipeline()\n",
    "\n",
    "    # Create a config and configure the pipeline to stream\n",
    "    #  different resolutions of color and depth streams\n",
    "    config = rs.config()\n",
    "    config.enable_stream(rs.stream.depth, 640, 360, rs.format.z16, 30)\n",
    "\n",
    "    # Start streaming to the slow processing function.\n",
    "    # This stream will lag, causing the occasional frame drop.\n",
    "    print(\"Slow callback\")\n",
    "    pipeline.start(config)\n",
    "    start = time.time()\n",
    "    while time.time() - start < 5:\n",
    "        frames = pipeline.wait_for_frames()\n",
    "        slow_processing(frames)\n",
    "    pipeline.stop()\n",
    "\n",
    "    # Start streaming to the the slow processing function by way of a frame queue.\n",
    "    # This stream will occasionally hiccup, but the frame_queue will prevent frame loss.\n",
    "    print(\"Slow callback + queue\")\n",
    "    queue = rs.frame_queue(50)\n",
    "    pipeline.start(config, queue)\n",
    "    start = time.time()\n",
    "    while time.time() - start < 5:\n",
    "        frames = queue.wait_for_frame()\n",
    "        slow_processing(frames)\n",
    "    pipeline.stop()\n",
    "\n",
    "    # Start streaming to the the slower processing function by way of a frame queue.\n",
    "    # This stream will drop frames because the delays are long enough that the backed up\n",
    "    # frames use the entire internal frame pool preventing the SDK from creating more frames.\n",
    "    print(\"Slower callback + queue\")\n",
    "    queue = rs.frame_queue(50)\n",
    "    pipeline.start(config, queue)\n",
    "    start = time.time()\n",
    "    while time.time() - start < 5:\n",
    "        frames = queue.wait_for_frame()\n",
    "        slower_processing(frames)\n",
    "    pipeline.stop()\n",
    "\n",
    "    # Start streaming to the slower processing function by way of a keeping frame queue.\n",
    "    # This stream will no longer drop frames because the frame queue tells the SDK\n",
    "    # to remove the frames it holds from the internal frame queue, allowing the SDK to\n",
    "    # allocate space for and create more frames .\n",
    "    print(\"Slower callback + keeping queue\")\n",
    "    queue = rs.frame_queue(50, keep_frames=True)\n",
    "    pipeline.start(config, queue)\n",
    "    start = time.time()\n",
    "    while time.time() - start < 5:\n",
    "        frames = queue.wait_for_frame()\n",
    "        slower_processing(frames)\n",
    "    pipeline.stop()\n",
    "\n",
    "except Exception as e:\n",
    "    print(e)\n",
    "except:\n",
    "    print(\"A different Error\")\n",
    "else:\n",
    "    print(\"Done\")"
   ]
  },
  {
   "cell_type": "code",
   "execution_count": null,
   "metadata": {},
   "outputs": [],
   "source": []
  },
  {
   "cell_type": "code",
   "execution_count": null,
   "metadata": {},
   "outputs": [],
   "source": []
  }
 ],
 "metadata": {
  "kernelspec": {
   "display_name": "Python 3",
   "language": "python",
   "name": "python3"
  },
  "language_info": {
   "codemirror_mode": {
    "name": "ipython",
    "version": 3
   },
   "file_extension": ".py",
   "mimetype": "text/x-python",
   "name": "python",
   "nbconvert_exporter": "python",
   "pygments_lexer": "ipython3",
   "version": "3.7.3"
  }
 },
 "nbformat": 4,
 "nbformat_minor": 2
}
