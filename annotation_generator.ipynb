{
 "cells": [
  {
   "cell_type": "code",
   "execution_count": 2,
   "metadata": {},
   "outputs": [],
   "source": [
    "import numpy as np\n",
    "import cv2\n",
    "import matplotlib.pyplot as plt\n",
    "import glob\n",
    "import json\n",
    "import os"
   ]
  },
  {
   "cell_type": "code",
   "execution_count": null,
   "metadata": {},
   "outputs": [],
   "source": [
    "mask = np.zeros([img.shape[0], img.shape[1], 1], dtype=np.uint8)\n",
    "\n",
    "for contour in contours:\n",
    "    contour = np.array(contour)\n",
    "    xpoints = contour.transpose()[0][0]\n",
    "    ypoints = contour.transpose()[1][0]\n",
    "    \n",
    "    rr, cc = skimage.draw.polygon(xpoints, ypoints)\n",
    "    \n",
    "    mask[cc, rr, 0] = img[cc, rr, 0]\n",
    "    \n",
    "cv.imshow('asdf', mask)\n",
    "cv.waitKey(0)\n",
    "cv.destroyAllWindows()"
   ]
  },
  {
   "cell_type": "code",
   "execution_count": 18,
   "metadata": {},
   "outputs": [
    {
     "name": "stdout",
     "output_type": "stream",
     "text": [
      "[array([320, 319, 312, 311, 305, 304, 298, 297, 290, 289, 283, 282, 276,\n",
      "       275, 269, 268, 264, 265, 265, 266, 266, 267, 267, 268, 284, 285,\n",
      "       301, 302, 318, 319, 324], dtype=int32), array([393, 392, 385, 384, 378, 377, 385, 385, 388, 390, 391, 392, 394,\n",
      "       394, 395, 395, 396, 396, 399, 399, 402, 402, 403, 403, 388, 387,\n",
      "       384, 384, 385, 385, 386, 386, 387, 387, 386, 386, 385, 385, 384,\n",
      "       384, 380, 379, 378, 377, 376, 375, 374, 369, 368, 362, 361, 354,\n",
      "       353, 347, 346, 341, 338, 337, 321, 320, 304, 303, 298, 300, 301,\n",
      "       307, 308, 314, 315, 322, 323, 329, 330, 336, 337, 344, 345, 351,\n",
      "       352, 358, 359, 365, 366, 373, 374, 380, 381, 387, 388, 395, 396,\n",
      "       402, 403, 409, 410, 413, 414, 415, 416, 417, 421, 421, 422, 422,\n",
      "       423, 423, 422, 422, 421, 421, 420, 420, 419, 419, 418, 418, 417,\n",
      "       417, 416, 416, 415, 415, 414, 414, 413, 413, 412, 412, 411, 411,\n",
      "       410, 410, 408, 408, 407, 406, 404, 403, 402, 400, 399], dtype=int32)]\n",
      "2\n"
     ]
    }
   ],
   "source": [
    "img = cv2.imread(\"datasets/test_mask/mask_Object1_3.png\")\n",
    "imgray = cv2.cvtColor(img, cv2.COLOR_BGR2GRAY)\n",
    "\n",
    "ret, thresh = cv2.threshold(imgray, 127, 255, 0)\n",
    "\n",
    "contours, hierarchy = cv2.findContours(thresh, cv2.RETR_EXTERNAL, cv2.CHAIN_APPROX_SIMPLE)\n",
    "\n",
    "all_xpoints = []\n",
    "all_ypoints = []\n",
    "\n",
    "for contour in contours:\n",
    "    xpoints = contour.transpose()[0][0]\n",
    "    ypoints = contour.transpose()[1][0]\n",
    "    \n",
    "    all_xpoints.append(xpoints)\n",
    "    all_ypoints.append(ypoints)\n",
    "\n",
    "# cv2.imshow('test', img)\n",
    "# cv2.waitKey(0)\n",
    "# cv2.destroyAllWindows()"
   ]
  },
  {
   "cell_type": "code",
   "execution_count": 38,
   "metadata": {},
   "outputs": [],
   "source": [
    "def find_contours(img):\n",
    "    # Grayscale image \n",
    "    imgray = cv2.cvtColor(img, cv2.COLOR_BGR2GRAY)\n",
    "\n",
    "    # Threshold the image\n",
    "    ret, thresh = cv2.threshold(imgray, 127, 255, 0)\n",
    "\n",
    "    # Find the contours\n",
    "    contours, hierarchy = cv2.findContours(thresh, cv2.RETR_EXTERNAL, cv2.CHAIN_APPROX_SIMPLE)\n",
    "    \n",
    "    # Return an empty array if it did not find any contours\n",
    "    if len(contours) == 0:\n",
    "        return np.array([])\n",
    "    \n",
    "    all_xpoints = []\n",
    "    all_ypoints = []\n",
    "\n",
    "    for contour in contours:\n",
    "        xpoints = contour.transpose()[0][0]\n",
    "        ypoints = contour.transpose()[1][0]\n",
    "\n",
    "        all_xpoints.append(xpoints.tolist())\n",
    "        all_ypoints.append(ypoints.tolist())\n",
    "\n",
    "    return all_xpoints, all_ypoints"
   ]
  },
  {
   "cell_type": "code",
   "execution_count": 33,
   "metadata": {},
   "outputs": [],
   "source": [
    "class Mask(object):\n",
    "    def __init__(self, file):\n",
    "        self.name = file[0].split('Object')[1].split('.')[0]\n",
    "        self.classification = self.name.split('_')[0]\n",
    "        self.contours = find_contours(cv2.imread(file[0]))\n",
    "\n",
    "\n",
    "class Image(object):\n",
    "    def __init__(self, file):\n",
    "        print(file)\n",
    "        self.image = cv2.imread(file)\n",
    "        self.name = file.split('/')[3]\n",
    "        self.mask = self.get_mask()\n",
    "\n",
    "    def get_mask(self):\n",
    "        path = \"./datasets/test_mask/mask_Object\" + self.name.split('_Object')[1]\n",
    "        return Mask(glob.glob(path))"
   ]
  },
  {
   "cell_type": "code",
   "execution_count": 40,
   "metadata": {},
   "outputs": [
    {
     "name": "stdout",
     "output_type": "stream",
     "text": [
      "./datasets/test_image/image_Object1_3.png\n"
     ]
    }
   ],
   "source": [
    "# Save the points to a json file\n",
    "images = []\n",
    "\n",
    "for file in glob.glob(\"./datasets/test_image/*.png\"):\n",
    "    images.append(Image(file))\n",
    "    \n",
    "data = {}\n",
    "\n",
    "for image in images:\n",
    "    region = {}\n",
    "    \n",
    "    region['name'] = image.mask.name\n",
    "    region['class'] = image.mask.classification\n",
    "\n",
    "    x_points, y_points = image.mask.contours\n",
    "    \n",
    "    region['all_points_x'] = x_points\n",
    "    region['all_points_y'] = y_points\n",
    "    \n",
    "    image_information = {}\n",
    "    height, width, _ = image.image.shape\n",
    "    image_information['filename'] = image.name\n",
    "    image_information['width'] = width\n",
    "    image_information['height'] = height\n",
    "    image_information['region'] = region\n",
    "    \n",
    "    data['image_' + image.name] = image_information\n",
    "    \n",
    "with open('datasets/test_image/annotations.json', 'w') as json_file:\n",
    "    json.dump(data, json_file)"
   ]
  },
  {
   "cell_type": "code",
   "execution_count": 8,
   "metadata": {},
   "outputs": [],
   "source": [
    "#For testing\n",
    "import random\n",
    "\n",
    "annotations = json.load(open(os.path.join(\"test_image/annotations.json\")))\n",
    "annotations = list(annotations.values())\n",
    "\n",
    "annotation = annotations[0]\n",
    "\n",
    "fin_img = cv2.imread(\"./test_image/\" + annotation['filename'])\n",
    "\n",
    "x_points = annotation['region']['all_points_x']\n",
    "y_points = annotation['region']['all_points_y']\n",
    "# print(len(y_points) == len(x_points))\n",
    "\n",
    "color = random.choice([[0,0,255], [255, 0, 0], [0, 255, 0], [255, 255, 0], [0, 255, 255], [255, 0, 255]])\n",
    "\n",
    "points = np.array([x_points, y_points]).transpose()\n",
    "\n",
    "cv2.polylines(fin_img, [points], True, color, 2)\n",
    "\n",
    "# Show\n",
    "cv2.imshow(annotation['filename'], fin_img)\n",
    "\n",
    "cv2.waitKey(0)\n",
    "cv2.destroyAllWindows()"
   ]
  }
 ],
 "metadata": {
  "kernelspec": {
   "display_name": "Python 3",
   "language": "python",
   "name": "python3"
  },
  "language_info": {
   "codemirror_mode": {
    "name": "ipython",
    "version": 3
   },
   "file_extension": ".py",
   "mimetype": "text/x-python",
   "name": "python",
   "nbconvert_exporter": "python",
   "pygments_lexer": "ipython3",
   "version": "3.6.9"
  }
 },
 "nbformat": 4,
 "nbformat_minor": 2
}
