{
 "cells": [
  {
   "cell_type": "code",
   "execution_count": 12,
   "metadata": {},
   "outputs": [],
   "source": [
    "import numpy as np\n",
    "import cv2\n",
    "import matplotlib.pyplot as plt\n",
    "import glob\n",
    "import json\n",
    "import os"
   ]
  },
  {
   "cell_type": "code",
   "execution_count": 35,
   "metadata": {},
   "outputs": [],
   "source": [
    "def find_contours(img):\n",
    "    # Grayscale image \n",
    "    imgray = cv2.cvtColor(img, cv2.COLOR_BGR2GRAY)\n",
    "\n",
    "    # Threshold the image\n",
    "    ret, thresh = cv2.threshold(imgray, 127, 255, 0)\n",
    "\n",
    "    # Find the contours\n",
    "    contours, hierarchy = cv2.findContours(thresh, cv2.RETR_TREE, cv2.CHAIN_APPROX_SIMPLE)\n",
    "    \n",
    "    # Return an empty array if it did not find any contours\n",
    "    if len(contours) == 0:\n",
    "        return np.array([])\n",
    "    \n",
    "    # Create a usable list of points from the contours\n",
    "    contour_points = []\n",
    "\n",
    "    for contour in contours[0]:\n",
    "        contour_points.append(contour[0])\n",
    "\n",
    "    contour_points = np.array(contour_points)\n",
    "\n",
    "    # Shrink the list of contours \n",
    "    shrinked_list = []\n",
    "\n",
    "    for i in range(0, len(contour_points)):\n",
    "        if i % 10 == 0: shrinked_list.append(contour_points[i])\n",
    "\n",
    "    return np.array(shrinked_list)"
   ]
  },
  {
   "cell_type": "code",
   "execution_count": 26,
   "metadata": {},
   "outputs": [],
   "source": [
    "# Create a named colour\n",
    "img = cv2.imread('masks/4_1.png')\n",
    "contours = find_contours(img)\n",
    "\n",
    "red = [0,0,255]\n",
    "\n",
    "cv2.polylines(img, [contours], True, red, 3)\n",
    "\n",
    "# Show\n",
    "cv2.imshow('image', img)\n",
    "\n",
    "cv2.waitKey(0)\n",
    "cv2.destroyAllWindows()"
   ]
  },
  {
   "cell_type": "code",
   "execution_count": 28,
   "metadata": {},
   "outputs": [
    {
     "name": "stdout",
     "output_type": "stream",
     "text": [
      "[]\n"
     ]
    }
   ],
   "source": [
    "img = cv2.imread('masks/4_1.png')\n",
    "contours = find_contours(img)\n",
    "\n",
    "print(contours.transpose())"
   ]
  },
  {
   "cell_type": "code",
   "execution_count": 42,
   "metadata": {},
   "outputs": [],
   "source": [
    "# Save the points to a json file\n",
    "images = []\n",
    "image_names = []\n",
    "\n",
    "for file in glob.glob(\"./masks/*.png\"):\n",
    "    images.append(cv2.imread(file))\n",
    "    image_names.append(file.split('/')[2])\n",
    "\n",
    "data = {}\n",
    "\n",
    "for filename, image in zip(image_names, images):\n",
    "    contours = find_contours(image)\n",
    "    if len(contours) != 0:\n",
    "        region = {}\n",
    "        region[\"name\"] = \"polyline\"\n",
    "        region[\"all_points_x\"] = contours.transpose()[0].tolist()\n",
    "        region[\"all_points_y\"] = contours.transpose()[1].tolist()\n",
    "\n",
    "        image_information = {}\n",
    "        image_information[\"filename\"] = filename\n",
    "        image_information[\"class\"] = filename.split('_')[1].split('.')[0]\n",
    "        image_information[\"region\"] = region\n",
    "\n",
    "        data[\"image_\" + filename] = image_information\n",
    "\n",
    "with open('annotations.json', 'w') as json_file:\n",
    "    json.dump(data, json_file)"
   ]
  },
  {
   "cell_type": "code",
   "execution_count": null,
   "metadata": {},
   "outputs": [],
   "source": []
  }
 ],
 "metadata": {
  "kernelspec": {
   "display_name": "Python 3",
   "language": "python",
   "name": "python3"
  },
  "language_info": {
   "codemirror_mode": {
    "name": "ipython",
    "version": 3
   },
   "file_extension": ".py",
   "mimetype": "text/x-python",
   "name": "python",
   "nbconvert_exporter": "python",
   "pygments_lexer": "ipython3",
   "version": "3.7.4"
  }
 },
 "nbformat": 4,
 "nbformat_minor": 2
}
