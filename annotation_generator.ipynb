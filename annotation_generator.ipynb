{
 "cells": [
  {
   "cell_type": "code",
   "execution_count": 1,
   "metadata": {},
   "outputs": [],
   "source": [
    "import numpy as np\n",
    "import cv2\n",
    "import matplotlib.pyplot as plt\n",
    "import glob\n",
    "import json\n",
    "import os"
   ]
  },
  {
   "cell_type": "code",
   "execution_count": 2,
   "metadata": {},
   "outputs": [],
   "source": [
    "def find_contours(img):\n",
    "    # Grayscale image \n",
    "    imgray = cv2.cvtColor(img, cv2.COLOR_BGR2GRAY)\n",
    "\n",
    "    # Threshold the image\n",
    "    ret, thresh = cv2.threshold(imgray, 127, 255, 0)\n",
    "\n",
    "    # Find the contours\n",
    "    contours, hierarchy = cv2.findContours(thresh, cv2.RETR_TREE, cv2.CHAIN_APPROX_SIMPLE)\n",
    "    \n",
    "    # Return an empty array if it did not find any contours\n",
    "    if len(contours) == 0:\n",
    "        return np.array([])\n",
    "    \n",
    "    # Create a usable list of points from the contours\n",
    "    sub_contours = []\n",
    "    shrinked_list = []\n",
    "\n",
    "    for contour in contours:\n",
    "        sub_contour_points = []\n",
    "        for contour_points in contour:\n",
    "            sub_contour_points.append(contour_points[0])\n",
    "        sub_contours.append(sub_contour_points)\n",
    "\n",
    "        # Shrink the list of contours \n",
    "        shrinked_sub_list = []\n",
    "\n",
    "        for i in range(0, len(sub_contour_points)):\n",
    "            if i % 2 == 0: shrinked_sub_list.append(sub_contour_points[i])\n",
    "        shrinked_list.append(shrinked_sub_list)\n",
    "\n",
    "    return np.array(shrinked_list)"
   ]
  },
  {
   "cell_type": "code",
   "execution_count": 3,
   "metadata": {},
   "outputs": [],
   "source": [
    "def get_class(filename):\n",
    "    num = filename.split('_')[1].split('.')[0]\n",
    "    \n",
    "    if num == \"1\":\n",
    "        return \"one\"\n",
    "    elif num == \"2\":\n",
    "        return \"two\"\n",
    "    elif num == \"3\":\n",
    "        return \"three\"\n",
    "    elif num == \"4\":\n",
    "        return \"four\"\n",
    "    elif num == \"5\":\n",
    "        return \"five\"\n",
    "    elif num == \"6\":\n",
    "        return \"six\""
   ]
  },
  {
   "cell_type": "code",
   "execution_count": 4,
   "metadata": {},
   "outputs": [],
   "source": [
    "class Mask(object):\n",
    "    def __init__(self, file):\n",
    "        self.name = file[0].split(' ')[1].split('.')[0]\n",
    "        self.classification = self.name.split('_')[0]\n",
    "        self.contours = find_contours(cv2.imread(file[0]))\n",
    "        \n",
    "\n",
    "class Image(object):\n",
    "    def __init__(self, file):\n",
    "        self.image = cv2.imread(file)\n",
    "        self.name = file.split('/')[2]\n",
    "        self.mask = self.get_mask()\n",
    "        \n",
    "    def get_mask(self):\n",
    "        path = \"./masks/mask_Object \" + self.name.split(' ')[1]\n",
    "        return Mask(glob.glob(path))"
   ]
  },
  {
   "cell_type": "code",
   "execution_count": 5,
   "metadata": {},
   "outputs": [
    {
     "data": {
      "text/plain": [
       "'4_275'"
      ]
     },
     "execution_count": 5,
     "metadata": {},
     "output_type": "execute_result"
    }
   ],
   "source": [
    "img_path = \"./images/image_Object 4_275.png\"\n",
    "\n",
    "test = img_path.split(' ')[1].split('.')[0]\n",
    "\n",
    "test\n",
    "# path = \"./masks/mask_Object \" + img_path.split(' ')[1]\n",
    "\n",
    "# file = glob.glob(path)\n",
    "\n",
    "# file"
   ]
  },
  {
   "cell_type": "code",
   "execution_count": 6,
   "metadata": {},
   "outputs": [
    {
     "data": {
      "text/plain": [
       "['./images/image_Object 4_275.png']"
      ]
     },
     "execution_count": 6,
     "metadata": {},
     "output_type": "execute_result"
    }
   ],
   "source": [
    "file = glob.glob(\"./images/image_Object 4_275.png\")\n",
    "\n",
    "file"
   ]
  },
  {
   "cell_type": "code",
   "execution_count": 7,
   "metadata": {},
   "outputs": [],
   "source": [
    "img = cv2.imread('./masks/mask_Object 4_275.png')\n",
    "\n",
    "cv2.imshow(\"test\", img)\n",
    "\n",
    "cv2.waitKey(0)\n",
    "cv2.destroyAllWindows()"
   ]
  },
  {
   "cell_type": "code",
   "execution_count": 8,
   "metadata": {},
   "outputs": [
    {
     "ename": "IndexError",
     "evalue": "list index out of range",
     "output_type": "error",
     "traceback": [
      "\u001b[0;31m---------------------------------------------------------------------------\u001b[0m",
      "\u001b[0;31mIndexError\u001b[0m                                Traceback (most recent call last)",
      "\u001b[0;32m<ipython-input-8-919b3105b911>\u001b[0m in \u001b[0;36m<module>\u001b[0;34m\u001b[0m\n\u001b[1;32m      3\u001b[0m \u001b[0;34m\u001b[0m\u001b[0m\n\u001b[1;32m      4\u001b[0m \u001b[0;32mfor\u001b[0m \u001b[0mfile\u001b[0m \u001b[0;32min\u001b[0m \u001b[0mglob\u001b[0m\u001b[0;34m.\u001b[0m\u001b[0mglob\u001b[0m\u001b[0;34m(\u001b[0m\u001b[0;34m\"./test_images/*.jpeg\"\u001b[0m\u001b[0;34m)\u001b[0m\u001b[0;34m:\u001b[0m\u001b[0;34m\u001b[0m\u001b[0;34m\u001b[0m\u001b[0m\n\u001b[0;32m----> 5\u001b[0;31m     \u001b[0mimages\u001b[0m\u001b[0;34m.\u001b[0m\u001b[0mappend\u001b[0m\u001b[0;34m(\u001b[0m\u001b[0mImage\u001b[0m\u001b[0;34m(\u001b[0m\u001b[0mfile\u001b[0m\u001b[0;34m)\u001b[0m\u001b[0;34m)\u001b[0m\u001b[0;34m\u001b[0m\u001b[0;34m\u001b[0m\u001b[0m\n\u001b[0m\u001b[1;32m      6\u001b[0m \u001b[0;34m\u001b[0m\u001b[0m\n\u001b[1;32m      7\u001b[0m \u001b[0mdata\u001b[0m \u001b[0;34m=\u001b[0m \u001b[0;34m{\u001b[0m\u001b[0;34m}\u001b[0m\u001b[0;34m\u001b[0m\u001b[0;34m\u001b[0m\u001b[0m\n",
      "\u001b[0;32m<ipython-input-4-e6908c9e071f>\u001b[0m in \u001b[0;36m__init__\u001b[0;34m(self, file)\u001b[0m\n\u001b[1;32m     10\u001b[0m         \u001b[0mself\u001b[0m\u001b[0;34m.\u001b[0m\u001b[0mimage\u001b[0m \u001b[0;34m=\u001b[0m \u001b[0mcv2\u001b[0m\u001b[0;34m.\u001b[0m\u001b[0mimread\u001b[0m\u001b[0;34m(\u001b[0m\u001b[0mfile\u001b[0m\u001b[0;34m)\u001b[0m\u001b[0;34m\u001b[0m\u001b[0;34m\u001b[0m\u001b[0m\n\u001b[1;32m     11\u001b[0m         \u001b[0mself\u001b[0m\u001b[0;34m.\u001b[0m\u001b[0mname\u001b[0m \u001b[0;34m=\u001b[0m \u001b[0mfile\u001b[0m\u001b[0;34m.\u001b[0m\u001b[0msplit\u001b[0m\u001b[0;34m(\u001b[0m\u001b[0;34m'/'\u001b[0m\u001b[0;34m)\u001b[0m\u001b[0;34m[\u001b[0m\u001b[0;36m2\u001b[0m\u001b[0;34m]\u001b[0m\u001b[0;34m\u001b[0m\u001b[0;34m\u001b[0m\u001b[0m\n\u001b[0;32m---> 12\u001b[0;31m         \u001b[0mself\u001b[0m\u001b[0;34m.\u001b[0m\u001b[0mmask\u001b[0m \u001b[0;34m=\u001b[0m \u001b[0mself\u001b[0m\u001b[0;34m.\u001b[0m\u001b[0mget_mask\u001b[0m\u001b[0;34m(\u001b[0m\u001b[0;34m)\u001b[0m\u001b[0;34m\u001b[0m\u001b[0;34m\u001b[0m\u001b[0m\n\u001b[0m\u001b[1;32m     13\u001b[0m \u001b[0;34m\u001b[0m\u001b[0m\n\u001b[1;32m     14\u001b[0m     \u001b[0;32mdef\u001b[0m \u001b[0mget_mask\u001b[0m\u001b[0;34m(\u001b[0m\u001b[0mself\u001b[0m\u001b[0;34m)\u001b[0m\u001b[0;34m:\u001b[0m\u001b[0;34m\u001b[0m\u001b[0;34m\u001b[0m\u001b[0m\n",
      "\u001b[0;32m<ipython-input-4-e6908c9e071f>\u001b[0m in \u001b[0;36mget_mask\u001b[0;34m(self)\u001b[0m\n\u001b[1;32m     13\u001b[0m \u001b[0;34m\u001b[0m\u001b[0m\n\u001b[1;32m     14\u001b[0m     \u001b[0;32mdef\u001b[0m \u001b[0mget_mask\u001b[0m\u001b[0;34m(\u001b[0m\u001b[0mself\u001b[0m\u001b[0;34m)\u001b[0m\u001b[0;34m:\u001b[0m\u001b[0;34m\u001b[0m\u001b[0;34m\u001b[0m\u001b[0m\n\u001b[0;32m---> 15\u001b[0;31m         \u001b[0mpath\u001b[0m \u001b[0;34m=\u001b[0m \u001b[0;34m\"./masks/mask_Object \"\u001b[0m \u001b[0;34m+\u001b[0m \u001b[0mself\u001b[0m\u001b[0;34m.\u001b[0m\u001b[0mname\u001b[0m\u001b[0;34m.\u001b[0m\u001b[0msplit\u001b[0m\u001b[0;34m(\u001b[0m\u001b[0;34m' '\u001b[0m\u001b[0;34m)\u001b[0m\u001b[0;34m[\u001b[0m\u001b[0;36m1\u001b[0m\u001b[0;34m]\u001b[0m\u001b[0;34m\u001b[0m\u001b[0;34m\u001b[0m\u001b[0m\n\u001b[0m\u001b[1;32m     16\u001b[0m         \u001b[0;32mreturn\u001b[0m \u001b[0mMask\u001b[0m\u001b[0;34m(\u001b[0m\u001b[0mglob\u001b[0m\u001b[0;34m.\u001b[0m\u001b[0mglob\u001b[0m\u001b[0;34m(\u001b[0m\u001b[0mpath\u001b[0m\u001b[0;34m)\u001b[0m\u001b[0;34m)\u001b[0m\u001b[0;34m\u001b[0m\u001b[0;34m\u001b[0m\u001b[0m\n",
      "\u001b[0;31mIndexError\u001b[0m: list index out of range"
     ]
    }
   ],
   "source": [
    "# Save the points to a json file\n",
    "images = []\n",
    "\n",
    "for file in glob.glob(\"./test_images/*.jpeg\"):\n",
    "    images.append(Image(file))\n",
    "    \n",
    "data = {}\n",
    "\n",
    "for image in images:\n",
    "    region = {}\n",
    "    \n",
    "    region['name'] = image.mask.name\n",
    "    region['class'] = image.mask.classification\n",
    "    x_points = []\n",
    "    y_points = []\n",
    "    for points in image.mask.contours:\n",
    "        points = np.array(points)\n",
    "        for point in points.transpose()[0].tolist():\n",
    "            x_points.append(point)\n",
    "            \n",
    "        for point in points.transpose()[1].tolist():\n",
    "            y_points.append(point)\n",
    "        \n",
    "#         x_points.append([points.transpose()[0].tolist()] if len(points) > 0 else [])\n",
    "#         y_points.append([points.transpose()[1].tolist()] if len(points) > 0 else [])\n",
    "    \n",
    "    region['all_points_x'] = x_points\n",
    "    region['all_points_y'] = y_points\n",
    "    \n",
    "    image_information = {}\n",
    "    height, width, _ = image.image.shape\n",
    "    image_information['filename'] = image.name\n",
    "    image_information['width'] = width\n",
    "    image_information['height'] = height\n",
    "    image_information['region'] = region\n",
    "    \n",
    "    data['image_' + image.name] = image_information\n",
    "    \n",
    "with open('test_images/annotations.json', 'w') as json_file:\n",
    "    json.dump(data, json_file)"
   ]
  },
  {
   "cell_type": "code",
   "execution_count": null,
   "metadata": {},
   "outputs": [],
   "source": [
    "#For testing\n",
    "import random\n",
    "\n",
    "annotations = json.load(open(os.path.join(\"test_images/annotations.json\")))\n",
    "annotations = list(annotations.values())\n",
    "\n",
    "annotation = annotations[20]\n",
    "\n",
    "fin_img = cv2.imread(\"./test_images/\" + annotation['filename'])\n",
    "\n",
    "x_points = annotation['region']['all_points_x']\n",
    "y_points = annotation['region']['all_points_y']\n",
    "# print(len(y_points) == len(x_points))\n",
    "\n",
    "color = random.choice([[0,0,255], [255, 0, 0], [0, 255, 0], [255, 255, 0], [0, 255, 255], [255, 0, 255]])\n",
    "\n",
    "points = np.array([x_points, y_points]).transpose()\n",
    "\n",
    "# for x, y in zip(x_points, y_points):\n",
    "#         points = np.array([x, y]).transpose()\n",
    "\n",
    "cv2.polylines(fin_img, [points], True, color, 2)\n",
    "\n",
    "# Show\n",
    "cv2.imshow(annotation['filename'], fin_img)\n",
    "\n",
    "cv2.waitKey(0)\n",
    "cv2.destroyAllWindows()"
   ]
  },
  {
   "cell_type": "code",
   "execution_count": null,
   "metadata": {},
   "outputs": [],
   "source": []
  }
 ],
 "metadata": {
  "kernelspec": {
   "display_name": "Python 3",
   "language": "python",
   "name": "python3"
  },
  "language_info": {
   "codemirror_mode": {
    "name": "ipython",
    "version": 3
   },
   "file_extension": ".py",
   "mimetype": "text/x-python",
   "name": "python",
   "nbconvert_exporter": "python",
   "pygments_lexer": "ipython3",
   "version": "3.6.9"
  }
 },
 "nbformat": 4,
 "nbformat_minor": 2
}
