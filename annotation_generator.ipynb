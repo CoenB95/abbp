{
 "cells": [
  {
   "cell_type": "code",
   "execution_count": 1,
   "metadata": {},
   "outputs": [],
   "source": [
    "import numpy as np\n",
    "import cv2\n",
    "import matplotlib.pyplot as plt\n",
    "import glob\n",
    "import json\n",
    "import os"
   ]
  },
  {
   "cell_type": "code",
   "execution_count": null,
   "metadata": {},
   "outputs": [],
   "source": [
    "mask = np.zeros([img.shape[0], img.shape[1], 1], dtype=np.uint8)\n",
    "\n",
    "for contour in contours:\n",
    "    contour = np.array(contour)\n",
    "    xpoints = contour.transpose()[0][0]\n",
    "    ypoints = contour.transpose()[1][0]\n",
    "    \n",
    "    rr, cc = skimage.draw.polygon(xpoints, ypoints)\n",
    "    \n",
    "    mask[cc, rr, 0] = img[cc, rr, 0]\n",
    "    \n",
    "cv.imshow('asdf', mask)\n",
    "cv.waitKey(0)\n",
    "cv.destroyAllWindows()"
   ]
  },
  {
   "cell_type": "code",
   "execution_count": null,
   "metadata": {},
   "outputs": [],
   "source": [
    "img = cv2.imread(\"datasets/test_mask/mask_Object1_3.png\")\n",
    "imgray = cv2.cvtColor(img, cv2.COLOR_BGR2GRAY)\n",
    "\n",
    "ret, thresh = cv2.threshold(imgray, 127, 255, 0)\n",
    "\n",
    "contours, hierarchy = cv2.findContours(thresh, cv2.RETR_EXTERNAL, cv2.CHAIN_APPROX_SIMPLE)\n",
    "\n",
    "all_xpoints = []\n",
    "all_ypoints = []\n",
    "\n",
    "for contour in contours:\n",
    "    xpoints = contour.transpose()[0][0]\n",
    "    ypoints = contour.transpose()[1][0]\n",
    "    \n",
    "    all_xpoints.append(xpoints)\n",
    "    all_ypoints.append(ypoints)\n",
    "\n",
    "# cv2.imshow('test', img)\n",
    "# cv2.waitKey(0)\n",
    "# cv2.destroyAllWindows()"
   ]
  },
  {
   "cell_type": "code",
   "execution_count": 9,
   "metadata": {},
   "outputs": [],
   "source": [
    "def find_contours(img):\n",
    "    # Grayscale image \n",
    "    imgray = cv2.cvtColor(img, cv2.COLOR_BGR2GRAY)\n",
    "\n",
    "    # Threshold the image\n",
    "    ret, thresh = cv2.threshold(imgray, 127, 255, 0)\n",
    "\n",
    "    # Find the contours\n",
    "    contours, _ = cv2.findContours(thresh, cv2.RETR_EXTERNAL, cv2.CHAIN_APPROX_SIMPLE)\n",
    "        \n",
    "    xpoints = np.array(contours[0]).transpose()[0]\n",
    "    ypoints = np.array(contours[0]).transpose()[1]\n",
    "\n",
    "    return xpoints, ypoints"
   ]
  },
  {
   "cell_type": "code",
   "execution_count": 10,
   "metadata": {},
   "outputs": [],
   "source": [
    "# class Mask(object):\n",
    "#     def __init__(self, file):\n",
    "#         self.name = file[0].split('-')[1].split('.')[0]\n",
    "#         self.classification = self.name.split('_')[0]\n",
    "#         self.contours = find_contours(cv2.imread(file[0]))\n",
    "\n",
    "\n",
    "class Image(object):\n",
    "    def __init__(self, file):\n",
    "        print(file)\n",
    "        self.image = cv2.imread(file)\n",
    "        idx = len(file.split('/'))\n",
    "        self.name = file.split('/')[idx-1]\n",
    "        self.classification = self.name.split('-')[1].split('_')[0]\n",
    "        self.contours = find_contours(cv2.imread(file))\n",
    "#         self.mask = self.get_mask()\n",
    "\n",
    "#     def get_mask(self):\n",
    "#         path = \"./datasets/test_mask/mask_Object\" + self.name.split('_Object')[1]\n",
    "#         return Mask(glob.glob(path))"
   ]
  },
  {
   "cell_type": "code",
   "execution_count": 11,
   "metadata": {},
   "outputs": [
    {
     "name": "stdout",
     "output_type": "stream",
     "text": [
      "./datasets/test_image/image-1_0.png\n"
     ]
    }
   ],
   "source": [
    "# Save the points to a json file\n",
    "images = []\n",
    "\n",
    "for file in glob.glob(\"./datasets/test_image/*.png\"):\n",
    "    images.append(Image(file))\n",
    "    \n",
    "data = {}\n",
    "\n",
    "for image in images:\n",
    "    region = {}\n",
    "\n",
    "    x_points, y_points = image.contours\n",
    "    \n",
    "    region['all_points_x'] = x_points.tolist()\n",
    "    region['all_points_y'] = y_points.tolist()\n",
    "    \n",
    "    image_information = {}\n",
    "    height, width, _ = image.image.shape\n",
    "    image_information['filename'] = image.name\n",
    "    image_information['class'] = image.classification\n",
    "    image_information['width'] = width\n",
    "    image_information['height'] = height\n",
    "    image_information['region'] = region\n",
    "    \n",
    "    data['image_' + image.name] = image_information\n",
    "    \n",
    "with open('datasets/test_image/annotations.json', 'w') as json_file:\n",
    "    json.dump(data, json_file)"
   ]
  },
  {
   "cell_type": "code",
   "execution_count": null,
   "metadata": {},
   "outputs": [],
   "source": [
    "#For testing\n",
    "import random\n",
    "\n",
    "annotations = json.load(open(os.path.join(\"./val_images/annotations.json\")))\n",
    "annotations = list(annotations.values())\n",
    "\n",
    "annotation = annotations[0]\n",
    "\n",
    "fin_img = cv2.imread(\"./val_images/\" + annotation['filename'])\n",
    "\n",
    "x_points = annotation['region']['all_points_x']\n",
    "y_points = annotation['region']['all_points_y']\n",
    "# print(len(y_points) == len(x_points))\n",
    "\n",
    "color = random.choice([[0,0,255], [255, 0, 0], [0, 255, 0], [255, 255, 0], [0, 255, 255], [255, 0, 255]])\n",
    "\n",
    "points = np.array([x_points, y_points]).transpose()\n",
    "\n",
    "cv2.polylines(fin_img, [points], True, color, 2)\n",
    "\n",
    "# Show\n",
    "cv2.imshow(annotation['filename'], fin_img)\n",
    "\n",
    "cv2.waitKey(0)\n",
    "cv2.destroyAllWindows()"
   ]
  },
  {
   "cell_type": "code",
   "execution_count": null,
   "metadata": {},
   "outputs": [],
   "source": []
  }
 ],
 "metadata": {
  "kernelspec": {
   "display_name": "Python 3",
   "language": "python",
   "name": "python3"
  },
  "language_info": {
   "codemirror_mode": {
    "name": "ipython",
    "version": 3
   },
   "file_extension": ".py",
   "mimetype": "text/x-python",
   "name": "python",
   "nbconvert_exporter": "python",
   "pygments_lexer": "ipython3",
   "version": "3.7.3"
  }
 },
 "nbformat": 4,
 "nbformat_minor": 2
}
