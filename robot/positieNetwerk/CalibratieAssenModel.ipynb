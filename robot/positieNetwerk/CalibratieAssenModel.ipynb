{
 "cells": [
  {
   "cell_type": "code",
   "execution_count": 1,
   "metadata": {},
   "outputs": [
    {
     "name": "stderr",
     "output_type": "stream",
     "text": [
      "Using TensorFlow backend.\n"
     ]
    }
   ],
   "source": [
    "%matplotlib inline\n",
    "import matplotlib.pyplot as plt\n",
    "import pandas as pd\n",
    "import numpy as np\n",
    "from keras.models import Sequential\n",
    "from keras.layers import Dense\n",
    "from keras.optimizers import SGD, Adam\n",
    "from sklearn.model_selection import train_test_split\n",
    "import keras.backend as K\n",
    "from sklearn.metrics import mean_squared_error as mse\n",
    "from keras.callbacks import EarlyStopping\n",
    "from sklearn.metrics import r2_score"
   ]
  },
  {
   "cell_type": "code",
   "execution_count": 2,
   "metadata": {},
   "outputs": [
    {
     "name": "stdout",
     "output_type": "stream",
     "text": [
      "<class 'pandas.core.frame.DataFrame'>\n",
      "RangeIndex: 2522 entries, 0 to 2521\n",
      "Data columns (total 7 columns):\n",
      "pixelx    2522 non-null int64\n",
      "pixely    2522 non-null int64\n",
      "pixelz    2522 non-null int64\n",
      "robotx    2522 non-null float64\n",
      "roboty    2522 non-null float64\n",
      "robotz    2522 non-null float64\n",
      "bias      2522 non-null int64\n",
      "dtypes: float64(3), int64(4)\n",
      "memory usage: 138.0 KB\n"
     ]
    }
   ],
   "source": [
    "path = 'C:/Users/Mattias/Documents/ABBP_Project/JupyterNotebook/'\n",
    "name = 'tabelklein.csv'\n",
    "df = pd.read_csv(path + name, sep = ',')\n",
    "df['bias'] = 1\n",
    "df.info()"
   ]
  },
  {
   "cell_type": "code",
   "execution_count": 3,
   "metadata": {},
   "outputs": [
    {
     "data": {
      "text/html": [
       "<div>\n",
       "<style scoped>\n",
       "    .dataframe tbody tr th:only-of-type {\n",
       "        vertical-align: middle;\n",
       "    }\n",
       "\n",
       "    .dataframe tbody tr th {\n",
       "        vertical-align: top;\n",
       "    }\n",
       "\n",
       "    .dataframe thead th {\n",
       "        text-align: right;\n",
       "    }\n",
       "</style>\n",
       "<table border=\"1\" class=\"dataframe\">\n",
       "  <thead>\n",
       "    <tr style=\"text-align: right;\">\n",
       "      <th></th>\n",
       "      <th>pixelx</th>\n",
       "      <th>pixely</th>\n",
       "      <th>pixelz</th>\n",
       "      <th>robotx</th>\n",
       "      <th>roboty</th>\n",
       "      <th>robotz</th>\n",
       "      <th>bias</th>\n",
       "    </tr>\n",
       "  </thead>\n",
       "  <tbody>\n",
       "    <tr>\n",
       "      <th>0</th>\n",
       "      <td>536</td>\n",
       "      <td>49</td>\n",
       "      <td>563</td>\n",
       "      <td>0.443804</td>\n",
       "      <td>0.160355</td>\n",
       "      <td>0.035042</td>\n",
       "      <td>1</td>\n",
       "    </tr>\n",
       "    <tr>\n",
       "      <th>1</th>\n",
       "      <td>536</td>\n",
       "      <td>71</td>\n",
       "      <td>559</td>\n",
       "      <td>0.463795</td>\n",
       "      <td>0.160342</td>\n",
       "      <td>0.035016</td>\n",
       "      <td>1</td>\n",
       "    </tr>\n",
       "    <tr>\n",
       "      <th>2</th>\n",
       "      <td>537</td>\n",
       "      <td>93</td>\n",
       "      <td>559</td>\n",
       "      <td>0.483791</td>\n",
       "      <td>0.160349</td>\n",
       "      <td>0.035028</td>\n",
       "      <td>1</td>\n",
       "    </tr>\n",
       "    <tr>\n",
       "      <th>3</th>\n",
       "      <td>537</td>\n",
       "      <td>115</td>\n",
       "      <td>558</td>\n",
       "      <td>0.503816</td>\n",
       "      <td>0.160330</td>\n",
       "      <td>0.035055</td>\n",
       "      <td>1</td>\n",
       "    </tr>\n",
       "    <tr>\n",
       "      <th>4</th>\n",
       "      <td>538</td>\n",
       "      <td>137</td>\n",
       "      <td>556</td>\n",
       "      <td>0.523800</td>\n",
       "      <td>0.160361</td>\n",
       "      <td>0.035006</td>\n",
       "      <td>1</td>\n",
       "    </tr>\n",
       "  </tbody>\n",
       "</table>\n",
       "</div>"
      ],
      "text/plain": [
       "   pixelx  pixely  pixelz    robotx    roboty    robotz  bias\n",
       "0     536      49     563  0.443804  0.160355  0.035042     1\n",
       "1     536      71     559  0.463795  0.160342  0.035016     1\n",
       "2     537      93     559  0.483791  0.160349  0.035028     1\n",
       "3     537     115     558  0.503816  0.160330  0.035055     1\n",
       "4     538     137     556  0.523800  0.160361  0.035006     1"
      ]
     },
     "execution_count": 3,
     "metadata": {},
     "output_type": "execute_result"
    }
   ],
   "source": [
    "df.head()"
   ]
  },
  {
   "cell_type": "code",
   "execution_count": 29,
   "metadata": {},
   "outputs": [
    {
     "data": {
      "text/plain": [
       "<matplotlib.axes._subplots.AxesSubplot at 0x210aadf2cc0>"
      ]
     },
     "execution_count": 29,
     "metadata": {},
     "output_type": "execute_result"
    },
    {
     "data": {
      "image/png": "[encoded data removed]",
      "text/plain": [
       "<Figure size 432x288 with 1 Axes>"
      ]
     },
     "metadata": {
      "needs_background": "light"
     },
     "output_type": "display_data"
    }
   ],
   "source": [
    "df.plot(kind='scatter',\n",
    "        x='pixelz',\n",
    "        y='robotz',\n",
    "        title='X pixel en X robot')"
   ]
  },
  {
   "cell_type": "code",
   "execution_count": 5,
   "metadata": {},
   "outputs": [
    {
     "data": {
      "text/plain": [
       "<matplotlib.axes._subplots.AxesSubplot at 0x210aacabda0>"
      ]
     },
     "execution_count": 5,
     "metadata": {},
     "output_type": "execute_result"
    },
    {
     "data": {
      "image/png": "[encoded data removed]",
      "text/plain": [
       "<Figure size 432x288 with 1 Axes>"
      ]
     },
     "metadata": {
      "needs_background": "light"
     },
     "output_type": "display_data"
    }
   ],
   "source": [
    "df.plot(kind='scatter',\n",
    "        x='pixely',\n",
    "        y='robotx',\n",
    "        title='Y pixel en y robot')"
   ]
  },
  {
   "cell_type": "code",
   "execution_count": 6,
   "metadata": {},
   "outputs": [
    {
     "data": {
      "text/plain": [
       "<matplotlib.axes._subplots.AxesSubplot at 0x210aad15c50>"
      ]
     },
     "execution_count": 6,
     "metadata": {},
     "output_type": "execute_result"
    },
    {
     "data": {
      "image/png": "[encoded data removed]",
      "text/plain": [
       "<Figure size 432x288 with 1 Axes>"
      ]
     },
     "metadata": {
      "needs_background": "light"
     },
     "output_type": "display_data"
    }
   ],
   "source": [
    "df.plot(kind='scatter',\n",
    "        x='pixelz',\n",
    "        y='robotz',\n",
    "        title='z pixel en z robot')"
   ]
  },
  {
   "cell_type": "code",
   "execution_count": 7,
   "metadata": {},
   "outputs": [
    {
     "data": {
      "text/plain": [
       "array([ 4.,  6.,  8., 10., 12., 14., 16., 18., 20.])"
      ]
     },
     "execution_count": 7,
     "metadata": {},
     "output_type": "execute_result"
    }
   ],
   "source": [
    "df['groep'] = df['robotz'] * 100\n",
    "df['groep'] = df['groep'].apply(np.ceil)\n",
    "df\n",
    "groepAr = np.array(df['groep'].unique())\n",
    "groepAr"
   ]
  },
  {
   "cell_type": "code",
   "execution_count": 8,
   "metadata": {},
   "outputs": [],
   "source": [
    "dflaag4 = df[df['groep']==4]\n",
    "dflaag8 = df[df['groep']==8]\n",
    "dflaag12 = df[df['groep']==12]\n",
    "dflaag16 = df[df['groep']==16]\n",
    "dflaag20 = df[df['groep']==20]"
   ]
  },
  {
   "cell_type": "code",
   "execution_count": 9,
   "metadata": {},
   "outputs": [
    {
     "data": {
      "text/plain": [
       "<matplotlib.axes._subplots.AxesSubplot at 0x210aada3198>"
      ]
     },
     "execution_count": 9,
     "metadata": {},
     "output_type": "execute_result"
    },
    {
     "data": {
      "image/png": "[encoded data removed]",
      "text/plain": [
       "<Figure size 720x720 with 1 Axes>"
      ]
     },
     "metadata": {
      "needs_background": "light"
     },
     "output_type": "display_data"
    }
   ],
   "source": [
    "fig, ax = plt.subplots(1, 1, figsize=(10, 10))\n",
    "dflaag4.plot(ax=ax, kind='scatter',x='pixelx',y='roboty', color='r')\n",
    "dflaag8.plot(ax=ax, kind='scatter',x='pixelx',y='roboty', color='g')\n",
    "dflaag12.plot(ax=ax, kind='scatter',x='pixelx',y='roboty', color='b')\n",
    "dflaag16.plot(ax=ax, kind='scatter',x='pixelx',y='roboty', color='c')\n",
    "dflaag20.plot(ax=ax, kind='scatter',x='pixelx',y='roboty', color='m')"
   ]
  },
  {
   "cell_type": "code",
   "execution_count": 10,
   "metadata": {},
   "outputs": [
    {
     "data": {
      "text/plain": [
       "558.0"
      ]
     },
     "execution_count": 10,
     "metadata": {},
     "output_type": "execute_result"
    }
   ],
   "source": [
    "dflaag4['pixelz'].mean().round()"
   ]
  },
  {
   "cell_type": "code",
   "execution_count": 11,
   "metadata": {},
   "outputs": [
    {
     "data": {
      "text/plain": [
       "476.3904109589041"
      ]
     },
     "execution_count": 11,
     "metadata": {},
     "output_type": "execute_result"
    }
   ],
   "source": [
    "dflaag12['pixelz'].mean()"
   ]
  },
  {
   "cell_type": "code",
   "execution_count": 12,
   "metadata": {},
   "outputs": [
    {
     "data": {
      "text/plain": [
       "396.0"
      ]
     },
     "execution_count": 12,
     "metadata": {},
     "output_type": "execute_result"
    }
   ],
   "source": [
    "dflaag20['pixelz'].mean().round()"
   ]
  },
  {
   "cell_type": "code",
   "execution_count": null,
   "metadata": {},
   "outputs": [],
   "source": []
  },
  {
   "cell_type": "code",
   "execution_count": null,
   "metadata": {},
   "outputs": [],
   "source": []
  },
  {
   "cell_type": "code",
   "execution_count": 13,
   "metadata": {
    "scrolled": true
   },
   "outputs": [
    {
     "data": {
      "text/html": [
       "<div>\n",
       "<style scoped>\n",
       "    .dataframe tbody tr th:only-of-type {\n",
       "        vertical-align: middle;\n",
       "    }\n",
       "\n",
       "    .dataframe tbody tr th {\n",
       "        vertical-align: top;\n",
       "    }\n",
       "\n",
       "    .dataframe thead th {\n",
       "        text-align: right;\n",
       "    }\n",
       "</style>\n",
       "<table border=\"1\" class=\"dataframe\">\n",
       "  <thead>\n",
       "    <tr style=\"text-align: right;\">\n",
       "      <th></th>\n",
       "      <th>pixelx</th>\n",
       "      <th>pixely</th>\n",
       "      <th>pixelz</th>\n",
       "      <th>robotx</th>\n",
       "      <th>roboty</th>\n",
       "      <th>robotz</th>\n",
       "      <th>bias</th>\n",
       "      <th>groep</th>\n",
       "    </tr>\n",
       "  </thead>\n",
       "  <tbody>\n",
       "    <tr>\n",
       "      <th>0</th>\n",
       "      <td>536</td>\n",
       "      <td>49</td>\n",
       "      <td>563</td>\n",
       "      <td>0.443804</td>\n",
       "      <td>0.160355</td>\n",
       "      <td>0.035042</td>\n",
       "      <td>1</td>\n",
       "      <td>4.0</td>\n",
       "    </tr>\n",
       "    <tr>\n",
       "      <th>1</th>\n",
       "      <td>536</td>\n",
       "      <td>71</td>\n",
       "      <td>559</td>\n",
       "      <td>0.463795</td>\n",
       "      <td>0.160342</td>\n",
       "      <td>0.035016</td>\n",
       "      <td>1</td>\n",
       "      <td>4.0</td>\n",
       "    </tr>\n",
       "    <tr>\n",
       "      <th>2</th>\n",
       "      <td>537</td>\n",
       "      <td>93</td>\n",
       "      <td>559</td>\n",
       "      <td>0.483791</td>\n",
       "      <td>0.160349</td>\n",
       "      <td>0.035028</td>\n",
       "      <td>1</td>\n",
       "      <td>4.0</td>\n",
       "    </tr>\n",
       "    <tr>\n",
       "      <th>3</th>\n",
       "      <td>537</td>\n",
       "      <td>115</td>\n",
       "      <td>558</td>\n",
       "      <td>0.503816</td>\n",
       "      <td>0.160330</td>\n",
       "      <td>0.035055</td>\n",
       "      <td>1</td>\n",
       "      <td>4.0</td>\n",
       "    </tr>\n",
       "    <tr>\n",
       "      <th>4</th>\n",
       "      <td>538</td>\n",
       "      <td>137</td>\n",
       "      <td>556</td>\n",
       "      <td>0.523800</td>\n",
       "      <td>0.160361</td>\n",
       "      <td>0.035006</td>\n",
       "      <td>1</td>\n",
       "      <td>4.0</td>\n",
       "    </tr>\n",
       "    <tr>\n",
       "      <th>5</th>\n",
       "      <td>538</td>\n",
       "      <td>159</td>\n",
       "      <td>554</td>\n",
       "      <td>0.543800</td>\n",
       "      <td>0.160362</td>\n",
       "      <td>0.035035</td>\n",
       "      <td>1</td>\n",
       "      <td>4.0</td>\n",
       "    </tr>\n",
       "    <tr>\n",
       "      <th>6</th>\n",
       "      <td>539</td>\n",
       "      <td>181</td>\n",
       "      <td>554</td>\n",
       "      <td>0.563817</td>\n",
       "      <td>0.160362</td>\n",
       "      <td>0.035052</td>\n",
       "      <td>1</td>\n",
       "      <td>4.0</td>\n",
       "    </tr>\n",
       "    <tr>\n",
       "      <th>7</th>\n",
       "      <td>539</td>\n",
       "      <td>204</td>\n",
       "      <td>556</td>\n",
       "      <td>0.583794</td>\n",
       "      <td>0.160418</td>\n",
       "      <td>0.035049</td>\n",
       "      <td>1</td>\n",
       "      <td>4.0</td>\n",
       "    </tr>\n",
       "    <tr>\n",
       "      <th>8</th>\n",
       "      <td>539</td>\n",
       "      <td>226</td>\n",
       "      <td>553</td>\n",
       "      <td>0.603799</td>\n",
       "      <td>0.160345</td>\n",
       "      <td>0.035038</td>\n",
       "      <td>1</td>\n",
       "      <td>4.0</td>\n",
       "    </tr>\n",
       "    <tr>\n",
       "      <th>9</th>\n",
       "      <td>540</td>\n",
       "      <td>248</td>\n",
       "      <td>554</td>\n",
       "      <td>0.623781</td>\n",
       "      <td>0.160387</td>\n",
       "      <td>0.034996</td>\n",
       "      <td>1</td>\n",
       "      <td>4.0</td>\n",
       "    </tr>\n",
       "    <tr>\n",
       "      <th>10</th>\n",
       "      <td>540</td>\n",
       "      <td>271</td>\n",
       "      <td>552</td>\n",
       "      <td>0.643792</td>\n",
       "      <td>0.160390</td>\n",
       "      <td>0.035019</td>\n",
       "      <td>1</td>\n",
       "      <td>4.0</td>\n",
       "    </tr>\n",
       "    <tr>\n",
       "      <th>11</th>\n",
       "      <td>541</td>\n",
       "      <td>293</td>\n",
       "      <td>552</td>\n",
       "      <td>0.663796</td>\n",
       "      <td>0.160368</td>\n",
       "      <td>0.034964</td>\n",
       "      <td>1</td>\n",
       "      <td>4.0</td>\n",
       "    </tr>\n",
       "    <tr>\n",
       "      <th>12</th>\n",
       "      <td>541</td>\n",
       "      <td>316</td>\n",
       "      <td>550</td>\n",
       "      <td>0.683801</td>\n",
       "      <td>0.160409</td>\n",
       "      <td>0.035022</td>\n",
       "      <td>1</td>\n",
       "      <td>4.0</td>\n",
       "    </tr>\n",
       "    <tr>\n",
       "      <th>13</th>\n",
       "      <td>542</td>\n",
       "      <td>338</td>\n",
       "      <td>551</td>\n",
       "      <td>0.703797</td>\n",
       "      <td>0.160462</td>\n",
       "      <td>0.035064</td>\n",
       "      <td>1</td>\n",
       "      <td>4.0</td>\n",
       "    </tr>\n",
       "    <tr>\n",
       "      <th>14</th>\n",
       "      <td>543</td>\n",
       "      <td>361</td>\n",
       "      <td>547</td>\n",
       "      <td>0.723801</td>\n",
       "      <td>0.160407</td>\n",
       "      <td>0.035027</td>\n",
       "      <td>1</td>\n",
       "      <td>4.0</td>\n",
       "    </tr>\n",
       "    <tr>\n",
       "      <th>15</th>\n",
       "      <td>544</td>\n",
       "      <td>383</td>\n",
       "      <td>549</td>\n",
       "      <td>0.743800</td>\n",
       "      <td>0.160399</td>\n",
       "      <td>0.035083</td>\n",
       "      <td>1</td>\n",
       "      <td>4.0</td>\n",
       "    </tr>\n",
       "    <tr>\n",
       "      <th>16</th>\n",
       "      <td>544</td>\n",
       "      <td>406</td>\n",
       "      <td>549</td>\n",
       "      <td>0.763781</td>\n",
       "      <td>0.160390</td>\n",
       "      <td>0.035040</td>\n",
       "      <td>1</td>\n",
       "      <td>4.0</td>\n",
       "    </tr>\n",
       "    <tr>\n",
       "      <th>17</th>\n",
       "      <td>522</td>\n",
       "      <td>406</td>\n",
       "      <td>548</td>\n",
       "      <td>0.763779</td>\n",
       "      <td>0.140383</td>\n",
       "      <td>0.034852</td>\n",
       "      <td>1</td>\n",
       "      <td>4.0</td>\n",
       "    </tr>\n",
       "    <tr>\n",
       "      <th>18</th>\n",
       "      <td>521</td>\n",
       "      <td>383</td>\n",
       "      <td>548</td>\n",
       "      <td>0.743792</td>\n",
       "      <td>0.140221</td>\n",
       "      <td>0.034853</td>\n",
       "      <td>1</td>\n",
       "      <td>4.0</td>\n",
       "    </tr>\n",
       "    <tr>\n",
       "      <th>19</th>\n",
       "      <td>520</td>\n",
       "      <td>361</td>\n",
       "      <td>552</td>\n",
       "      <td>0.723797</td>\n",
       "      <td>0.140235</td>\n",
       "      <td>0.034835</td>\n",
       "      <td>1</td>\n",
       "      <td>4.0</td>\n",
       "    </tr>\n",
       "    <tr>\n",
       "      <th>20</th>\n",
       "      <td>520</td>\n",
       "      <td>338</td>\n",
       "      <td>550</td>\n",
       "      <td>0.703778</td>\n",
       "      <td>0.140271</td>\n",
       "      <td>0.034831</td>\n",
       "      <td>1</td>\n",
       "      <td>4.0</td>\n",
       "    </tr>\n",
       "    <tr>\n",
       "      <th>21</th>\n",
       "      <td>519</td>\n",
       "      <td>316</td>\n",
       "      <td>552</td>\n",
       "      <td>0.683794</td>\n",
       "      <td>0.140250</td>\n",
       "      <td>0.034923</td>\n",
       "      <td>1</td>\n",
       "      <td>4.0</td>\n",
       "    </tr>\n",
       "    <tr>\n",
       "      <th>22</th>\n",
       "      <td>518</td>\n",
       "      <td>293</td>\n",
       "      <td>553</td>\n",
       "      <td>0.663776</td>\n",
       "      <td>0.140265</td>\n",
       "      <td>0.034911</td>\n",
       "      <td>1</td>\n",
       "      <td>4.0</td>\n",
       "    </tr>\n",
       "    <tr>\n",
       "      <th>23</th>\n",
       "      <td>517</td>\n",
       "      <td>271</td>\n",
       "      <td>555</td>\n",
       "      <td>0.643786</td>\n",
       "      <td>0.140307</td>\n",
       "      <td>0.034921</td>\n",
       "      <td>1</td>\n",
       "      <td>4.0</td>\n",
       "    </tr>\n",
       "    <tr>\n",
       "      <th>24</th>\n",
       "      <td>517</td>\n",
       "      <td>248</td>\n",
       "      <td>555</td>\n",
       "      <td>0.623810</td>\n",
       "      <td>0.140286</td>\n",
       "      <td>0.034969</td>\n",
       "      <td>1</td>\n",
       "      <td>4.0</td>\n",
       "    </tr>\n",
       "    <tr>\n",
       "      <th>25</th>\n",
       "      <td>516</td>\n",
       "      <td>226</td>\n",
       "      <td>554</td>\n",
       "      <td>0.603806</td>\n",
       "      <td>0.140240</td>\n",
       "      <td>0.034931</td>\n",
       "      <td>1</td>\n",
       "      <td>4.0</td>\n",
       "    </tr>\n",
       "    <tr>\n",
       "      <th>26</th>\n",
       "      <td>516</td>\n",
       "      <td>204</td>\n",
       "      <td>557</td>\n",
       "      <td>0.583815</td>\n",
       "      <td>0.140277</td>\n",
       "      <td>0.034901</td>\n",
       "      <td>1</td>\n",
       "      <td>4.0</td>\n",
       "    </tr>\n",
       "    <tr>\n",
       "      <th>27</th>\n",
       "      <td>516</td>\n",
       "      <td>182</td>\n",
       "      <td>555</td>\n",
       "      <td>0.563817</td>\n",
       "      <td>0.140302</td>\n",
       "      <td>0.034941</td>\n",
       "      <td>1</td>\n",
       "      <td>4.0</td>\n",
       "    </tr>\n",
       "    <tr>\n",
       "      <th>28</th>\n",
       "      <td>515</td>\n",
       "      <td>160</td>\n",
       "      <td>557</td>\n",
       "      <td>0.543784</td>\n",
       "      <td>0.140271</td>\n",
       "      <td>0.034880</td>\n",
       "      <td>1</td>\n",
       "      <td>4.0</td>\n",
       "    </tr>\n",
       "    <tr>\n",
       "      <th>29</th>\n",
       "      <td>515</td>\n",
       "      <td>138</td>\n",
       "      <td>556</td>\n",
       "      <td>0.523813</td>\n",
       "      <td>0.140263</td>\n",
       "      <td>0.034917</td>\n",
       "      <td>1</td>\n",
       "      <td>4.0</td>\n",
       "    </tr>\n",
       "    <tr>\n",
       "      <th>...</th>\n",
       "      <td>...</td>\n",
       "      <td>...</td>\n",
       "      <td>...</td>\n",
       "      <td>...</td>\n",
       "      <td>...</td>\n",
       "      <td>...</td>\n",
       "      <td>...</td>\n",
       "      <td>...</td>\n",
       "    </tr>\n",
       "    <tr>\n",
       "      <th>268</th>\n",
       "      <td>207</td>\n",
       "      <td>252</td>\n",
       "      <td>561</td>\n",
       "      <td>0.623824</td>\n",
       "      <td>-0.139646</td>\n",
       "      <td>0.034988</td>\n",
       "      <td>1</td>\n",
       "      <td>4.0</td>\n",
       "    </tr>\n",
       "    <tr>\n",
       "      <th>269</th>\n",
       "      <td>207</td>\n",
       "      <td>230</td>\n",
       "      <td>561</td>\n",
       "      <td>0.603795</td>\n",
       "      <td>-0.139659</td>\n",
       "      <td>0.034912</td>\n",
       "      <td>1</td>\n",
       "      <td>4.0</td>\n",
       "    </tr>\n",
       "    <tr>\n",
       "      <th>270</th>\n",
       "      <td>207</td>\n",
       "      <td>208</td>\n",
       "      <td>561</td>\n",
       "      <td>0.583795</td>\n",
       "      <td>-0.139623</td>\n",
       "      <td>0.034920</td>\n",
       "      <td>1</td>\n",
       "      <td>4.0</td>\n",
       "    </tr>\n",
       "    <tr>\n",
       "      <th>271</th>\n",
       "      <td>207</td>\n",
       "      <td>186</td>\n",
       "      <td>563</td>\n",
       "      <td>0.563797</td>\n",
       "      <td>-0.139643</td>\n",
       "      <td>0.034910</td>\n",
       "      <td>1</td>\n",
       "      <td>4.0</td>\n",
       "    </tr>\n",
       "    <tr>\n",
       "      <th>272</th>\n",
       "      <td>206</td>\n",
       "      <td>164</td>\n",
       "      <td>563</td>\n",
       "      <td>0.543793</td>\n",
       "      <td>-0.139631</td>\n",
       "      <td>0.034885</td>\n",
       "      <td>1</td>\n",
       "      <td>4.0</td>\n",
       "    </tr>\n",
       "    <tr>\n",
       "      <th>273</th>\n",
       "      <td>206</td>\n",
       "      <td>142</td>\n",
       "      <td>564</td>\n",
       "      <td>0.523803</td>\n",
       "      <td>-0.139627</td>\n",
       "      <td>0.034906</td>\n",
       "      <td>1</td>\n",
       "      <td>4.0</td>\n",
       "    </tr>\n",
       "    <tr>\n",
       "      <th>274</th>\n",
       "      <td>206</td>\n",
       "      <td>120</td>\n",
       "      <td>564</td>\n",
       "      <td>0.503789</td>\n",
       "      <td>-0.139635</td>\n",
       "      <td>0.034896</td>\n",
       "      <td>1</td>\n",
       "      <td>4.0</td>\n",
       "    </tr>\n",
       "    <tr>\n",
       "      <th>275</th>\n",
       "      <td>205</td>\n",
       "      <td>99</td>\n",
       "      <td>562</td>\n",
       "      <td>0.483791</td>\n",
       "      <td>-0.139658</td>\n",
       "      <td>0.034896</td>\n",
       "      <td>1</td>\n",
       "      <td>4.0</td>\n",
       "    </tr>\n",
       "    <tr>\n",
       "      <th>276</th>\n",
       "      <td>205</td>\n",
       "      <td>76</td>\n",
       "      <td>562</td>\n",
       "      <td>0.463783</td>\n",
       "      <td>-0.139660</td>\n",
       "      <td>0.034882</td>\n",
       "      <td>1</td>\n",
       "      <td>4.0</td>\n",
       "    </tr>\n",
       "    <tr>\n",
       "      <th>277</th>\n",
       "      <td>205</td>\n",
       "      <td>54</td>\n",
       "      <td>562</td>\n",
       "      <td>0.443779</td>\n",
       "      <td>-0.139635</td>\n",
       "      <td>0.034887</td>\n",
       "      <td>1</td>\n",
       "      <td>4.0</td>\n",
       "    </tr>\n",
       "    <tr>\n",
       "      <th>278</th>\n",
       "      <td>204</td>\n",
       "      <td>32</td>\n",
       "      <td>562</td>\n",
       "      <td>0.423840</td>\n",
       "      <td>-0.139649</td>\n",
       "      <td>0.034926</td>\n",
       "      <td>1</td>\n",
       "      <td>4.0</td>\n",
       "    </tr>\n",
       "    <tr>\n",
       "      <th>279</th>\n",
       "      <td>183</td>\n",
       "      <td>33</td>\n",
       "      <td>567</td>\n",
       "      <td>0.423784</td>\n",
       "      <td>-0.159706</td>\n",
       "      <td>0.035052</td>\n",
       "      <td>1</td>\n",
       "      <td>4.0</td>\n",
       "    </tr>\n",
       "    <tr>\n",
       "      <th>280</th>\n",
       "      <td>183</td>\n",
       "      <td>55</td>\n",
       "      <td>566</td>\n",
       "      <td>0.443777</td>\n",
       "      <td>-0.159743</td>\n",
       "      <td>0.035066</td>\n",
       "      <td>1</td>\n",
       "      <td>4.0</td>\n",
       "    </tr>\n",
       "    <tr>\n",
       "      <th>281</th>\n",
       "      <td>183</td>\n",
       "      <td>76</td>\n",
       "      <td>564</td>\n",
       "      <td>0.463772</td>\n",
       "      <td>-0.159713</td>\n",
       "      <td>0.035027</td>\n",
       "      <td>1</td>\n",
       "      <td>4.0</td>\n",
       "    </tr>\n",
       "    <tr>\n",
       "      <th>282</th>\n",
       "      <td>184</td>\n",
       "      <td>98</td>\n",
       "      <td>564</td>\n",
       "      <td>0.483807</td>\n",
       "      <td>-0.159712</td>\n",
       "      <td>0.035061</td>\n",
       "      <td>1</td>\n",
       "      <td>4.0</td>\n",
       "    </tr>\n",
       "    <tr>\n",
       "      <th>283</th>\n",
       "      <td>184</td>\n",
       "      <td>120</td>\n",
       "      <td>562</td>\n",
       "      <td>0.503780</td>\n",
       "      <td>-0.159739</td>\n",
       "      <td>0.035032</td>\n",
       "      <td>1</td>\n",
       "      <td>4.0</td>\n",
       "    </tr>\n",
       "    <tr>\n",
       "      <th>284</th>\n",
       "      <td>184</td>\n",
       "      <td>142</td>\n",
       "      <td>563</td>\n",
       "      <td>0.523804</td>\n",
       "      <td>-0.159675</td>\n",
       "      <td>0.034998</td>\n",
       "      <td>1</td>\n",
       "      <td>4.0</td>\n",
       "    </tr>\n",
       "    <tr>\n",
       "      <th>285</th>\n",
       "      <td>184</td>\n",
       "      <td>164</td>\n",
       "      <td>561</td>\n",
       "      <td>0.543780</td>\n",
       "      <td>-0.159755</td>\n",
       "      <td>0.035038</td>\n",
       "      <td>1</td>\n",
       "      <td>4.0</td>\n",
       "    </tr>\n",
       "    <tr>\n",
       "      <th>286</th>\n",
       "      <td>185</td>\n",
       "      <td>186</td>\n",
       "      <td>562</td>\n",
       "      <td>0.563790</td>\n",
       "      <td>-0.159728</td>\n",
       "      <td>0.035013</td>\n",
       "      <td>1</td>\n",
       "      <td>4.0</td>\n",
       "    </tr>\n",
       "    <tr>\n",
       "      <th>287</th>\n",
       "      <td>185</td>\n",
       "      <td>208</td>\n",
       "      <td>561</td>\n",
       "      <td>0.583768</td>\n",
       "      <td>-0.159769</td>\n",
       "      <td>0.035015</td>\n",
       "      <td>1</td>\n",
       "      <td>4.0</td>\n",
       "    </tr>\n",
       "    <tr>\n",
       "      <th>288</th>\n",
       "      <td>185</td>\n",
       "      <td>230</td>\n",
       "      <td>559</td>\n",
       "      <td>0.603791</td>\n",
       "      <td>-0.159746</td>\n",
       "      <td>0.035034</td>\n",
       "      <td>1</td>\n",
       "      <td>4.0</td>\n",
       "    </tr>\n",
       "    <tr>\n",
       "      <th>289</th>\n",
       "      <td>185</td>\n",
       "      <td>252</td>\n",
       "      <td>560</td>\n",
       "      <td>0.623779</td>\n",
       "      <td>-0.159743</td>\n",
       "      <td>0.035042</td>\n",
       "      <td>1</td>\n",
       "      <td>4.0</td>\n",
       "    </tr>\n",
       "    <tr>\n",
       "      <th>290</th>\n",
       "      <td>185</td>\n",
       "      <td>274</td>\n",
       "      <td>559</td>\n",
       "      <td>0.643805</td>\n",
       "      <td>-0.159725</td>\n",
       "      <td>0.035058</td>\n",
       "      <td>1</td>\n",
       "      <td>4.0</td>\n",
       "    </tr>\n",
       "    <tr>\n",
       "      <th>291</th>\n",
       "      <td>185</td>\n",
       "      <td>296</td>\n",
       "      <td>558</td>\n",
       "      <td>0.663788</td>\n",
       "      <td>-0.159735</td>\n",
       "      <td>0.034945</td>\n",
       "      <td>1</td>\n",
       "      <td>4.0</td>\n",
       "    </tr>\n",
       "    <tr>\n",
       "      <th>292</th>\n",
       "      <td>185</td>\n",
       "      <td>319</td>\n",
       "      <td>559</td>\n",
       "      <td>0.683788</td>\n",
       "      <td>-0.159762</td>\n",
       "      <td>0.035007</td>\n",
       "      <td>1</td>\n",
       "      <td>4.0</td>\n",
       "    </tr>\n",
       "    <tr>\n",
       "      <th>293</th>\n",
       "      <td>185</td>\n",
       "      <td>341</td>\n",
       "      <td>556</td>\n",
       "      <td>0.703807</td>\n",
       "      <td>-0.159750</td>\n",
       "      <td>0.035085</td>\n",
       "      <td>1</td>\n",
       "      <td>4.0</td>\n",
       "    </tr>\n",
       "    <tr>\n",
       "      <th>294</th>\n",
       "      <td>185</td>\n",
       "      <td>364</td>\n",
       "      <td>555</td>\n",
       "      <td>0.723792</td>\n",
       "      <td>-0.159726</td>\n",
       "      <td>0.035046</td>\n",
       "      <td>1</td>\n",
       "      <td>4.0</td>\n",
       "    </tr>\n",
       "    <tr>\n",
       "      <th>295</th>\n",
       "      <td>185</td>\n",
       "      <td>386</td>\n",
       "      <td>555</td>\n",
       "      <td>0.743795</td>\n",
       "      <td>-0.159733</td>\n",
       "      <td>0.035059</td>\n",
       "      <td>1</td>\n",
       "      <td>4.0</td>\n",
       "    </tr>\n",
       "    <tr>\n",
       "      <th>296</th>\n",
       "      <td>186</td>\n",
       "      <td>409</td>\n",
       "      <td>552</td>\n",
       "      <td>0.763792</td>\n",
       "      <td>-0.159721</td>\n",
       "      <td>0.035040</td>\n",
       "      <td>1</td>\n",
       "      <td>4.0</td>\n",
       "    </tr>\n",
       "    <tr>\n",
       "      <th>297</th>\n",
       "      <td>163</td>\n",
       "      <td>410</td>\n",
       "      <td>556</td>\n",
       "      <td>0.763781</td>\n",
       "      <td>-0.179701</td>\n",
       "      <td>0.035058</td>\n",
       "      <td>1</td>\n",
       "      <td>4.0</td>\n",
       "    </tr>\n",
       "  </tbody>\n",
       "</table>\n",
       "<p>298 rows × 8 columns</p>\n",
       "</div>"
      ],
      "text/plain": [
       "     pixelx  pixely  pixelz    robotx    roboty    robotz  bias  groep\n",
       "0       536      49     563  0.443804  0.160355  0.035042     1    4.0\n",
       "1       536      71     559  0.463795  0.160342  0.035016     1    4.0\n",
       "2       537      93     559  0.483791  0.160349  0.035028     1    4.0\n",
       "3       537     115     558  0.503816  0.160330  0.035055     1    4.0\n",
       "4       538     137     556  0.523800  0.160361  0.035006     1    4.0\n",
       "5       538     159     554  0.543800  0.160362  0.035035     1    4.0\n",
       "6       539     181     554  0.563817  0.160362  0.035052     1    4.0\n",
       "7       539     204     556  0.583794  0.160418  0.035049     1    4.0\n",
       "8       539     226     553  0.603799  0.160345  0.035038     1    4.0\n",
       "9       540     248     554  0.623781  0.160387  0.034996     1    4.0\n",
       "10      540     271     552  0.643792  0.160390  0.035019     1    4.0\n",
       "11      541     293     552  0.663796  0.160368  0.034964     1    4.0\n",
       "12      541     316     550  0.683801  0.160409  0.035022     1    4.0\n",
       "13      542     338     551  0.703797  0.160462  0.035064     1    4.0\n",
       "14      543     361     547  0.723801  0.160407  0.035027     1    4.0\n",
       "15      544     383     549  0.743800  0.160399  0.035083     1    4.0\n",
       "16      544     406     549  0.763781  0.160390  0.035040     1    4.0\n",
       "17      522     406     548  0.763779  0.140383  0.034852     1    4.0\n",
       "18      521     383     548  0.743792  0.140221  0.034853     1    4.0\n",
       "19      520     361     552  0.723797  0.140235  0.034835     1    4.0\n",
       "20      520     338     550  0.703778  0.140271  0.034831     1    4.0\n",
       "21      519     316     552  0.683794  0.140250  0.034923     1    4.0\n",
       "22      518     293     553  0.663776  0.140265  0.034911     1    4.0\n",
       "23      517     271     555  0.643786  0.140307  0.034921     1    4.0\n",
       "24      517     248     555  0.623810  0.140286  0.034969     1    4.0\n",
       "25      516     226     554  0.603806  0.140240  0.034931     1    4.0\n",
       "26      516     204     557  0.583815  0.140277  0.034901     1    4.0\n",
       "27      516     182     555  0.563817  0.140302  0.034941     1    4.0\n",
       "28      515     160     557  0.543784  0.140271  0.034880     1    4.0\n",
       "29      515     138     556  0.523813  0.140263  0.034917     1    4.0\n",
       "..      ...     ...     ...       ...       ...       ...   ...    ...\n",
       "268     207     252     561  0.623824 -0.139646  0.034988     1    4.0\n",
       "269     207     230     561  0.603795 -0.139659  0.034912     1    4.0\n",
       "270     207     208     561  0.583795 -0.139623  0.034920     1    4.0\n",
       "271     207     186     563  0.563797 -0.139643  0.034910     1    4.0\n",
       "272     206     164     563  0.543793 -0.139631  0.034885     1    4.0\n",
       "273     206     142     564  0.523803 -0.139627  0.034906     1    4.0\n",
       "274     206     120     564  0.503789 -0.139635  0.034896     1    4.0\n",
       "275     205      99     562  0.483791 -0.139658  0.034896     1    4.0\n",
       "276     205      76     562  0.463783 -0.139660  0.034882     1    4.0\n",
       "277     205      54     562  0.443779 -0.139635  0.034887     1    4.0\n",
       "278     204      32     562  0.423840 -0.139649  0.034926     1    4.0\n",
       "279     183      33     567  0.423784 -0.159706  0.035052     1    4.0\n",
       "280     183      55     566  0.443777 -0.159743  0.035066     1    4.0\n",
       "281     183      76     564  0.463772 -0.159713  0.035027     1    4.0\n",
       "282     184      98     564  0.483807 -0.159712  0.035061     1    4.0\n",
       "283     184     120     562  0.503780 -0.159739  0.035032     1    4.0\n",
       "284     184     142     563  0.523804 -0.159675  0.034998     1    4.0\n",
       "285     184     164     561  0.543780 -0.159755  0.035038     1    4.0\n",
       "286     185     186     562  0.563790 -0.159728  0.035013     1    4.0\n",
       "287     185     208     561  0.583768 -0.159769  0.035015     1    4.0\n",
       "288     185     230     559  0.603791 -0.159746  0.035034     1    4.0\n",
       "289     185     252     560  0.623779 -0.159743  0.035042     1    4.0\n",
       "290     185     274     559  0.643805 -0.159725  0.035058     1    4.0\n",
       "291     185     296     558  0.663788 -0.159735  0.034945     1    4.0\n",
       "292     185     319     559  0.683788 -0.159762  0.035007     1    4.0\n",
       "293     185     341     556  0.703807 -0.159750  0.035085     1    4.0\n",
       "294     185     364     555  0.723792 -0.159726  0.035046     1    4.0\n",
       "295     185     386     555  0.743795 -0.159733  0.035059     1    4.0\n",
       "296     186     409     552  0.763792 -0.159721  0.035040     1    4.0\n",
       "297     163     410     556  0.763781 -0.179701  0.035058     1    4.0\n",
       "\n",
       "[298 rows x 8 columns]"
      ]
     },
     "execution_count": 13,
     "metadata": {},
     "output_type": "execute_result"
    }
   ],
   "source": [
    "dflaag4"
   ]
  },
  {
   "cell_type": "code",
   "execution_count": 14,
   "metadata": {},
   "outputs": [],
   "source": [
    "inputAs = df[['bias','pixelx', 'pixelz']].values\n",
    "outputAs = df[['roboty']].values"
   ]
  },
  {
   "cell_type": "code",
   "execution_count": 19,
   "metadata": {},
   "outputs": [],
   "source": [
    "inputAs = df[['bias','pixelx']].values\n",
    "outputAs = df[['roboty']].values"
   ]
  },
  {
   "cell_type": "code",
   "execution_count": 20,
   "metadata": {
    "scrolled": true
   },
   "outputs": [
    {
     "data": {
      "text/plain": [
       "array([[  1, 536],\n",
       "       [  1, 536],\n",
       "       [  1, 537],\n",
       "       ...,\n",
       "       [  1, 158],\n",
       "       [  1, 158],\n",
       "       [  1, 128]], dtype=int64)"
      ]
     },
     "execution_count": 20,
     "metadata": {},
     "output_type": "execute_result"
    }
   ],
   "source": [
    "inputAs"
   ]
  },
  {
   "cell_type": "code",
   "execution_count": 21,
   "metadata": {},
   "outputs": [
    {
     "data": {
      "text/plain": [
       "array([[ 0.160355],\n",
       "       [ 0.160342],\n",
       "       [ 0.160349],\n",
       "       ...,\n",
       "       [-0.13964 ],\n",
       "       [-0.139653],\n",
       "       [-0.159732]])"
      ]
     },
     "execution_count": 21,
     "metadata": {},
     "output_type": "execute_result"
    }
   ],
   "source": [
    "outputAs"
   ]
  },
  {
   "cell_type": "code",
   "execution_count": 22,
   "metadata": {},
   "outputs": [],
   "source": [
    "X_train, X_test, y_train, y_test = train_test_split(inputAs, outputAs, test_size=0.2)"
   ]
  },
  {
   "cell_type": "code",
   "execution_count": 23,
   "metadata": {},
   "outputs": [
    {
     "name": "stdout",
     "output_type": "stream",
     "text": [
      "Epoch 1/500\n",
      "2017/2017 [==============================] - 2s 860us/step - loss: 54988.0354\n",
      "Epoch 2/500\n",
      "2017/2017 [==============================] - 0s 6us/step - loss: 705.0114\n",
      "Epoch 3/500\n",
      "2017/2017 [==============================] - 0s 7us/step - loss: 143.2062\n",
      "Epoch 4/500\n",
      "2017/2017 [==============================] - 0s 6us/step - loss: 14.0639\n",
      "Epoch 5/500\n",
      "2017/2017 [==============================] - 0s 6us/step - loss: 1.3724\n",
      "Epoch 6/500\n",
      "2017/2017 [==============================] - 0s 6us/step - loss: 0.2201\n",
      "Epoch 7/500\n",
      "2017/2017 [==============================] - 0s 6us/step - loss: 0.0996\n",
      "Epoch 8/500\n",
      "2017/2017 [==============================] - 0s 6us/step - loss: 0.0834\n",
      "Epoch 9/500\n",
      "2017/2017 [==============================] - 0s 6us/step - loss: 0.0818\n",
      "Epoch 10/500\n",
      "2017/2017 [==============================] - 0s 5us/step - loss: 0.0812\n",
      "Epoch 11/500\n",
      "2017/2017 [==============================] - 0s 6us/step - loss: 0.0799\n",
      "Epoch 12/500\n",
      "2017/2017 [==============================] - 0s 6us/step - loss: 0.0795\n",
      "Epoch 13/500\n",
      "2017/2017 [==============================] - 0s 5us/step - loss: 0.0787\n",
      "Epoch 14/500\n",
      "2017/2017 [==============================] - 0s 6us/step - loss: 0.0782\n",
      "Epoch 15/500\n",
      "2017/2017 [==============================] - 0s 6us/step - loss: 0.0775\n",
      "Epoch 16/500\n",
      "2017/2017 [==============================] - 0s 6us/step - loss: 0.0770\n",
      "Epoch 17/500\n",
      "2017/2017 [==============================] - 0s 5us/step - loss: 0.0764\n",
      "Epoch 18/500\n",
      "2017/2017 [==============================] - 0s 6us/step - loss: 0.0760\n",
      "Epoch 19/500\n",
      "2017/2017 [==============================] - 0s 6us/step - loss: 0.0756\n",
      "Epoch 20/500\n",
      "2017/2017 [==============================] - 0s 6us/step - loss: 0.0740\n",
      "Epoch 21/500\n",
      "2017/2017 [==============================] - 0s 6us/step - loss: 0.0732\n",
      "Epoch 22/500\n",
      "2017/2017 [==============================] - 0s 6us/step - loss: 0.0746\n",
      "Epoch 23/500\n",
      "2017/2017 [==============================] - 0s 6us/step - loss: 0.0737\n",
      "Epoch 24/500\n",
      "2017/2017 [==============================] - 0s 8us/step - loss: 0.0718\n",
      "Epoch 25/500\n",
      "2017/2017 [==============================] - 0s 5us/step - loss: 0.0704\n",
      "Epoch 26/500\n",
      "2017/2017 [==============================] - 0s 6us/step - loss: 0.0696\n",
      "Epoch 27/500\n",
      "2017/2017 [==============================] - 0s 6us/step - loss: 0.0706\n",
      "Epoch 28/500\n",
      "2017/2017 [==============================] - 0s 6us/step - loss: 0.0685\n",
      "Epoch 29/500\n",
      "2017/2017 [==============================] - 0s 5us/step - loss: 0.0662\n",
      "Epoch 30/500\n",
      "2017/2017 [==============================] - 0s 5us/step - loss: 0.0653\n",
      "Epoch 31/500\n",
      "2017/2017 [==============================] - 0s 6us/step - loss: 0.0649\n",
      "Epoch 32/500\n",
      "2017/2017 [==============================] - 0s 5us/step - loss: 0.0639\n",
      "Epoch 33/500\n",
      "2017/2017 [==============================] - 0s 6us/step - loss: 0.0625\n",
      "Epoch 34/500\n",
      "2017/2017 [==============================] - 0s 5us/step - loss: 0.0624\n",
      "Epoch 35/500\n",
      "2017/2017 [==============================] - 0s 5us/step - loss: 0.0610\n",
      "Epoch 36/500\n",
      "2017/2017 [==============================] - 0s 5us/step - loss: 0.0604\n",
      "Epoch 37/500\n",
      "2017/2017 [==============================] - 0s 5us/step - loss: 0.0599\n",
      "Epoch 38/500\n",
      "2017/2017 [==============================] - 0s 5us/step - loss: 0.0583\n",
      "Epoch 39/500\n",
      "2017/2017 [==============================] - 0s 5us/step - loss: 0.0571\n",
      "Epoch 40/500\n",
      "2017/2017 [==============================] - 0s 6us/step - loss: 0.0576\n",
      "Epoch 41/500\n",
      "2017/2017 [==============================] - 0s 5us/step - loss: 0.0555\n",
      "Epoch 42/500\n",
      "2017/2017 [==============================] - 0s 6us/step - loss: 0.0555\n",
      "Epoch 43/500\n",
      "2017/2017 [==============================] - 0s 5us/step - loss: 0.0533\n",
      "Epoch 44/500\n",
      "2017/2017 [==============================] - 0s 6us/step - loss: 0.0531\n",
      "Epoch 45/500\n",
      "2017/2017 [==============================] - 0s 5us/step - loss: 0.0523\n",
      "Epoch 46/500\n",
      "2017/2017 [==============================] - 0s 5us/step - loss: 0.0514\n",
      "Epoch 47/500\n",
      "2017/2017 [==============================] - 0s 7us/step - loss: 0.0505\n",
      "Epoch 48/500\n",
      "2017/2017 [==============================] - 0s 6us/step - loss: 0.0497\n",
      "Epoch 49/500\n",
      "2017/2017 [==============================] - 0s 6us/step - loss: 0.0478\n",
      "Epoch 50/500\n",
      "2017/2017 [==============================] - 0s 6us/step - loss: 0.0469\n",
      "Epoch 51/500\n",
      "2017/2017 [==============================] - 0s 5us/step - loss: 0.0459\n",
      "Epoch 52/500\n",
      "2017/2017 [==============================] - 0s 6us/step - loss: 0.0455\n",
      "Epoch 53/500\n",
      "2017/2017 [==============================] - 0s 6us/step - loss: 0.0438\n",
      "Epoch 54/500\n",
      "2017/2017 [==============================] - 0s 6us/step - loss: 0.0429\n",
      "Epoch 55/500\n",
      "2017/2017 [==============================] - 0s 8us/step - loss: 0.0420\n",
      "Epoch 56/500\n",
      "2017/2017 [==============================] - 0s 6us/step - loss: 0.0428\n",
      "Epoch 57/500\n",
      "2017/2017 [==============================] - 0s 5us/step - loss: 0.0416\n",
      "Epoch 58/500\n",
      "2017/2017 [==============================] - 0s 6us/step - loss: 0.0397\n",
      "Epoch 59/500\n",
      "2017/2017 [==============================] - 0s 6us/step - loss: 0.0388\n",
      "Epoch 60/500\n",
      "2017/2017 [==============================] - 0s 5us/step - loss: 0.0378\n",
      "Epoch 61/500\n",
      "2017/2017 [==============================] - 0s 6us/step - loss: 0.0372\n",
      "Epoch 62/500\n",
      "2017/2017 [==============================] - 0s 5us/step - loss: 0.0366\n",
      "Epoch 63/500\n",
      "2017/2017 [==============================] - 0s 6us/step - loss: 0.0352\n",
      "Epoch 64/500\n",
      "2017/2017 [==============================] - 0s 5us/step - loss: 0.0342\n",
      "Epoch 65/500\n",
      "2017/2017 [==============================] - 0s 6us/step - loss: 0.0335\n",
      "Epoch 66/500\n",
      "2017/2017 [==============================] - 0s 6us/step - loss: 0.0323\n",
      "Epoch 67/500\n",
      "2017/2017 [==============================] - 0s 6us/step - loss: 0.0325\n",
      "Epoch 68/500\n",
      "2017/2017 [==============================] - 0s 5us/step - loss: 0.0323\n",
      "Epoch 69/500\n",
      "2017/2017 [==============================] - 0s 5us/step - loss: 0.0301\n",
      "Epoch 70/500\n",
      "2017/2017 [==============================] - 0s 6us/step - loss: 0.0293\n",
      "Epoch 71/500\n",
      "2017/2017 [==============================] - 0s 5us/step - loss: 0.0308\n",
      "Epoch 72/500\n",
      "2017/2017 [==============================] - 0s 5us/step - loss: 0.0285\n",
      "Epoch 73/500\n",
      "2017/2017 [==============================] - 0s 5us/step - loss: 0.0277\n",
      "Epoch 74/500\n",
      "2017/2017 [==============================] - 0s 6us/step - loss: 0.0262\n",
      "Epoch 75/500\n",
      "2017/2017 [==============================] - 0s 5us/step - loss: 0.0257\n",
      "Epoch 76/500\n",
      "2017/2017 [==============================] - 0s 5us/step - loss: 0.0249\n",
      "Epoch 77/500\n",
      "2017/2017 [==============================] - 0s 5us/step - loss: 0.0251\n",
      "Epoch 78/500\n",
      "2017/2017 [==============================] - 0s 6us/step - loss: 0.0238\n",
      "Epoch 79/500\n",
      "2017/2017 [==============================] - 0s 6us/step - loss: 0.0225\n",
      "Epoch 80/500\n",
      "2017/2017 [==============================] - 0s 6us/step - loss: 0.0218\n",
      "Epoch 81/500\n",
      "2017/2017 [==============================] - 0s 5us/step - loss: 0.0217\n",
      "Epoch 82/500\n",
      "2017/2017 [==============================] - 0s 5us/step - loss: 0.0207\n",
      "Epoch 83/500\n",
      "2017/2017 [==============================] - 0s 6us/step - loss: 0.0201\n",
      "Epoch 84/500\n",
      "2017/2017 [==============================] - 0s 5us/step - loss: 0.0191\n",
      "Epoch 85/500\n",
      "2017/2017 [==============================] - 0s 5us/step - loss: 0.0188\n",
      "Epoch 86/500\n",
      "2017/2017 [==============================] - 0s 5us/step - loss: 0.0185\n",
      "Epoch 87/500\n",
      "2017/2017 [==============================] - 0s 5us/step - loss: 0.0173\n",
      "Epoch 88/500\n",
      "2017/2017 [==============================] - 0s 5us/step - loss: 0.0173\n",
      "Epoch 89/500\n",
      "2017/2017 [==============================] - 0s 5us/step - loss: 0.0170\n",
      "Epoch 90/500\n",
      "2017/2017 [==============================] - 0s 6us/step - loss: 0.0172\n",
      "Epoch 91/500\n",
      "2017/2017 [==============================] - 0s 6us/step - loss: 0.0158\n",
      "Epoch 92/500\n",
      "2017/2017 [==============================] - 0s 5us/step - loss: 0.0153\n",
      "Epoch 93/500\n",
      "2017/2017 [==============================] - 0s 6us/step - loss: 0.0150\n",
      "Epoch 94/500\n",
      "2017/2017 [==============================] - 0s 5us/step - loss: 0.0139\n",
      "Epoch 95/500\n",
      "2017/2017 [==============================] - 0s 6us/step - loss: 0.0140\n",
      "Epoch 96/500\n",
      "2017/2017 [==============================] - 0s 5us/step - loss: 0.0129\n",
      "Epoch 97/500\n",
      "2017/2017 [==============================] - 0s 5us/step - loss: 0.0126\n",
      "Epoch 98/500\n",
      "2017/2017 [==============================] - 0s 5us/step - loss: 0.0125\n",
      "Epoch 99/500\n",
      "2017/2017 [==============================] - 0s 5us/step - loss: 0.0125\n",
      "Epoch 100/500\n",
      "2017/2017 [==============================] - 0s 6us/step - loss: 0.0113\n",
      "Epoch 101/500\n",
      "2017/2017 [==============================] - 0s 5us/step - loss: 0.0106\n",
      "Epoch 102/500\n",
      "2017/2017 [==============================] - 0s 5us/step - loss: 0.0100\n",
      "Epoch 103/500\n",
      "2017/2017 [==============================] - 0s 5us/step - loss: 0.0097\n",
      "Epoch 104/500\n",
      "2017/2017 [==============================] - 0s 5us/step - loss: 0.0094\n",
      "Epoch 105/500\n",
      "2017/2017 [==============================] - 0s 5us/step - loss: 0.0092\n",
      "Epoch 106/500\n",
      "2017/2017 [==============================] - 0s 6us/step - loss: 0.0085\n",
      "Epoch 107/500\n",
      "2017/2017 [==============================] - 0s 5us/step - loss: 0.0082\n",
      "Epoch 108/500\n",
      "2017/2017 [==============================] - 0s 5us/step - loss: 0.0080\n",
      "Epoch 109/500\n",
      "2017/2017 [==============================] - 0s 5us/step - loss: 0.0077\n",
      "Epoch 110/500\n",
      "2017/2017 [==============================] - 0s 5us/step - loss: 0.0072\n",
      "Epoch 111/500\n",
      "2017/2017 [==============================] - 0s 5us/step - loss: 0.0071\n",
      "Epoch 112/500\n",
      "2017/2017 [==============================] - 0s 5us/step - loss: 0.0065\n",
      "Epoch 113/500\n",
      "2017/2017 [==============================] - 0s 6us/step - loss: 0.0063\n",
      "Epoch 114/500\n",
      "2017/2017 [==============================] - 0s 5us/step - loss: 0.0066\n",
      "Epoch 115/500\n",
      "2017/2017 [==============================] - 0s 5us/step - loss: 0.0064\n",
      "Epoch 116/500\n",
      "2017/2017 [==============================] - 0s 5us/step - loss: 0.0057\n",
      "Epoch 117/500\n",
      "2017/2017 [==============================] - 0s 5us/step - loss: 0.0053\n",
      "Epoch 118/500\n",
      "2017/2017 [==============================] - 0s 5us/step - loss: 0.0052\n",
      "Epoch 119/500\n",
      "2017/2017 [==============================] - 0s 6us/step - loss: 0.0048\n",
      "Epoch 120/500\n",
      "2017/2017 [==============================] - 0s 5us/step - loss: 0.0046\n",
      "Epoch 121/500\n",
      "2017/2017 [==============================] - 0s 5us/step - loss: 0.0044\n",
      "Epoch 122/500\n",
      "2017/2017 [==============================] - 0s 5us/step - loss: 0.0042\n",
      "Epoch 123/500\n",
      "2017/2017 [==============================] - 0s 5us/step - loss: 0.0041\n",
      "Epoch 124/500\n",
      "2017/2017 [==============================] - 0s 5us/step - loss: 0.0037\n",
      "Epoch 125/500\n",
      "2017/2017 [==============================] - 0s 5us/step - loss: 0.0038\n",
      "Epoch 126/500\n",
      "2017/2017 [==============================] - 0s 6us/step - loss: 0.0037\n",
      "Epoch 127/500\n",
      "2017/2017 [==============================] - 0s 5us/step - loss: 0.0038\n",
      "Epoch 128/500\n",
      "2017/2017 [==============================] - 0s 5us/step - loss: 0.0032\n",
      "Epoch 129/500\n",
      "2017/2017 [==============================] - 0s 5us/step - loss: 0.0034\n",
      "Epoch 130/500\n",
      "2017/2017 [==============================] - 0s 5us/step - loss: 0.0030\n",
      "Epoch 131/500\n",
      "2017/2017 [==============================] - 0s 6us/step - loss: 0.0027\n",
      "Epoch 132/500\n",
      "2017/2017 [==============================] - 0s 5us/step - loss: 0.0024\n",
      "Epoch 133/500\n",
      "2017/2017 [==============================] - 0s 5us/step - loss: 0.0025\n",
      "Epoch 134/500\n",
      "2017/2017 [==============================] - 0s 5us/step - loss: 0.0022\n",
      "Epoch 135/500\n",
      "2017/2017 [==============================] - 0s 6us/step - loss: 0.0021\n",
      "Epoch 136/500\n",
      "2017/2017 [==============================] - 0s 5us/step - loss: 0.0019\n",
      "Epoch 137/500\n",
      "2017/2017 [==============================] - 0s 5us/step - loss: 0.0019\n",
      "Epoch 138/500\n",
      "2017/2017 [==============================] - 0s 6us/step - loss: 0.0019\n",
      "Epoch 139/500\n",
      "2017/2017 [==============================] - 0s 6us/step - loss: 0.0017\n",
      "Epoch 140/500\n",
      "2017/2017 [==============================] - 0s 5us/step - loss: 0.0020\n",
      "Epoch 141/500\n",
      "2017/2017 [==============================] - 0s 5us/step - loss: 0.0016\n",
      "Epoch 142/500\n",
      "2017/2017 [==============================] - 0s 5us/step - loss: 0.0015\n",
      "Epoch 143/500\n",
      "2017/2017 [==============================] - 0s 6us/step - loss: 0.0013\n",
      "Epoch 144/500\n",
      "2017/2017 [==============================] - 0s 5us/step - loss: 0.0013\n",
      "Epoch 145/500\n",
      "2017/2017 [==============================] - 0s 5us/step - loss: 0.0012\n",
      "Epoch 146/500\n",
      "2017/2017 [==============================] - 0s 5us/step - loss: 0.0011\n",
      "Epoch 147/500\n",
      "2017/2017 [==============================] - 0s 5us/step - loss: 0.0010\n",
      "Epoch 148/500\n",
      "2017/2017 [==============================] - 0s 5us/step - loss: 9.8697e-04\n",
      "Epoch 149/500\n",
      "2017/2017 [==============================] - 0s 5us/step - loss: 9.4511e-04\n",
      "Epoch 150/500\n",
      "2017/2017 [==============================] - 0s 5us/step - loss: 8.4227e-04\n",
      "Epoch 151/500\n",
      "2017/2017 [==============================] - 0s 5us/step - loss: 8.6286e-04\n",
      "Epoch 152/500\n",
      "2017/2017 [==============================] - 0s 5us/step - loss: 7.8172e-04\n",
      "Epoch 153/500\n",
      "2017/2017 [==============================] - 0s 6us/step - loss: 7.4642e-04\n",
      "Epoch 154/500\n",
      "2017/2017 [==============================] - 0s 5us/step - loss: 6.9511e-04\n",
      "Epoch 155/500\n",
      "2017/2017 [==============================] - 0s 5us/step - loss: 7.4651e-04\n",
      "Epoch 156/500\n",
      "2017/2017 [==============================] - 0s 5us/step - loss: 6.8032e-04\n",
      "Epoch 157/500\n",
      "2017/2017 [==============================] - 0s 5us/step - loss: 5.8228e-04\n",
      "Epoch 158/500\n",
      "2017/2017 [==============================] - 0s 5us/step - loss: 5.5884e-04\n",
      "Epoch 159/500\n",
      "2017/2017 [==============================] - 0s 6us/step - loss: 5.0324e-04\n",
      "Epoch 160/500\n",
      "2017/2017 [==============================] - 0s 5us/step - loss: 4.6122e-04\n",
      "Epoch 161/500\n",
      "2017/2017 [==============================] - 0s 5us/step - loss: 5.7586e-04\n",
      "Epoch 162/500\n",
      "2017/2017 [==============================] - 0s 5us/step - loss: 4.1811e-04\n",
      "Epoch 163/500\n",
      "2017/2017 [==============================] - 0s 6us/step - loss: 4.2445e-04\n",
      "Epoch 164/500\n",
      "2017/2017 [==============================] - 0s 5us/step - loss: 3.9478e-04\n",
      "Epoch 165/500\n",
      "2017/2017 [==============================] - 0s 7us/step - loss: 4.1262e-04\n",
      "Epoch 166/500\n",
      "2017/2017 [==============================] - 0s 5us/step - loss: 4.4826e-04\n",
      "Epoch 167/500\n",
      "2017/2017 [==============================] - 0s 7us/step - loss: 4.3216e-04\n",
      "Epoch 168/500\n",
      "2017/2017 [==============================] - 0s 5us/step - loss: 3.1455e-04\n",
      "Epoch 169/500\n",
      "2017/2017 [==============================] - 0s 5us/step - loss: 3.2918e-04\n",
      "Epoch 170/500\n",
      "2017/2017 [==============================] - 0s 5us/step - loss: 2.9238e-04\n",
      "Epoch 171/500\n",
      "2017/2017 [==============================] - 0s 5us/step - loss: 2.8752e-04\n",
      "Epoch 172/500\n",
      "2017/2017 [==============================] - 0s 6us/step - loss: 2.9800e-04\n",
      "Epoch 173/500\n",
      "2017/2017 [==============================] - 0s 5us/step - loss: 2.5882e-04\n",
      "Epoch 174/500\n",
      "2017/2017 [==============================] - 0s 6us/step - loss: 2.7101e-04\n",
      "Epoch 175/500\n",
      "2017/2017 [==============================] - 0s 6us/step - loss: 2.2981e-04\n",
      "Epoch 176/500\n",
      "2017/2017 [==============================] - 0s 5us/step - loss: 2.1884e-04\n",
      "Epoch 177/500\n",
      "2017/2017 [==============================] - 0s 5us/step - loss: 2.6613e-04\n",
      "Epoch 178/500\n",
      "2017/2017 [==============================] - 0s 5us/step - loss: 2.0948e-04\n",
      "Epoch 179/500\n",
      "2017/2017 [==============================] - 0s 5us/step - loss: 3.8072e-04\n",
      "Epoch 180/500\n",
      "2017/2017 [==============================] - 0s 5us/step - loss: 2.0245e-04\n",
      "Epoch 181/500\n",
      "2017/2017 [==============================] - 0s 5us/step - loss: 2.2401e-04\n",
      "Epoch 182/500\n",
      "2017/2017 [==============================] - 0s 5us/step - loss: 1.9003e-04\n",
      "Epoch 183/500\n",
      "2017/2017 [==============================] - 0s 5us/step - loss: 1.7734e-04\n",
      "Epoch 184/500\n",
      "2017/2017 [==============================] - 0s 5us/step - loss: 1.8223e-04\n",
      "Epoch 185/500\n",
      "2017/2017 [==============================] - 0s 5us/step - loss: 1.7954e-04\n",
      "Epoch 186/500\n",
      "2017/2017 [==============================] - 0s 5us/step - loss: 1.9335e-04\n",
      "Epoch 187/500\n",
      "2017/2017 [==============================] - 0s 5us/step - loss: 1.7282e-04\n",
      "Epoch 188/500\n",
      "2017/2017 [==============================] - 0s 5us/step - loss: 2.0845e-04\n",
      "Epoch 189/500\n",
      "2017/2017 [==============================] - 0s 5us/step - loss: 1.5206e-04\n",
      "Epoch 190/500\n"
     ]
    },
    {
     "name": "stdout",
     "output_type": "stream",
     "text": [
      "2017/2017 [==============================] - 0s 5us/step - loss: 2.7448e-04\n",
      "Epoch 191/500\n",
      "2017/2017 [==============================] - 0s 6us/step - loss: 1.5872e-04\n",
      "Epoch 192/500\n",
      "2017/2017 [==============================] - 0s 7us/step - loss: 1.6344e-04\n",
      "Epoch 193/500\n",
      "2017/2017 [==============================] - 0s 5us/step - loss: 1.7275e-04\n",
      "Epoch 194/500\n",
      "2017/2017 [==============================] - 0s 5us/step - loss: 1.8226e-04\n",
      "Epoch 195/500\n",
      "2017/2017 [==============================] - 0s 5us/step - loss: 2.1569e-04\n",
      "Epoch 196/500\n",
      "2017/2017 [==============================] - 0s 5us/step - loss: 1.6269e-04\n",
      "Epoch 197/500\n",
      "2017/2017 [==============================] - 0s 5us/step - loss: 1.4143e-04\n",
      "Epoch 198/500\n",
      "2017/2017 [==============================] - 0s 5us/step - loss: 1.9847e-04\n",
      "Epoch 199/500\n",
      "2017/2017 [==============================] - 0s 6us/step - loss: 2.0705e-04\n",
      "Epoch 200/500\n",
      "2017/2017 [==============================] - 0s 5us/step - loss: 1.5403e-04\n",
      "Epoch 201/500\n",
      "2017/2017 [==============================] - 0s 5us/step - loss: 1.8550e-04\n",
      "Epoch 202/500\n",
      "2017/2017 [==============================] - 0s 6us/step - loss: 2.0609e-04\n",
      "Epoch 203/500\n",
      "2017/2017 [==============================] - 0s 5us/step - loss: 1.5960e-04\n",
      "Epoch 204/500\n",
      "2017/2017 [==============================] - 0s 5us/step - loss: 1.9402e-04\n",
      "Epoch 205/500\n",
      "2017/2017 [==============================] - 0s 5us/step - loss: 2.2875e-04\n",
      "Epoch 206/500\n",
      "2017/2017 [==============================] - 0s 6us/step - loss: 1.8152e-04\n",
      "Epoch 207/500\n",
      "2017/2017 [==============================] - 0s 5us/step - loss: 2.9403e-04\n",
      "Epoch 208/500\n",
      "2017/2017 [==============================] - 0s 6us/step - loss: 2.2930e-04\n",
      "Epoch 209/500\n",
      "2017/2017 [==============================] - 0s 5us/step - loss: 3.2347e-04\n",
      "Epoch 210/500\n",
      "2017/2017 [==============================] - 0s 5us/step - loss: 2.5942e-04\n",
      "Epoch 211/500\n",
      "2017/2017 [==============================] - 0s 5us/step - loss: 3.6542e-04\n",
      "Epoch 212/500\n",
      "2017/2017 [==============================] - 0s 6us/step - loss: 2.5680e-04\n",
      "Epoch 213/500\n",
      "2017/2017 [==============================] - 0s 5us/step - loss: 2.9111e-04\n",
      "Epoch 214/500\n",
      "2017/2017 [==============================] - 0s 5us/step - loss: 1.7888e-04\n",
      "Epoch 215/500\n",
      "2017/2017 [==============================] - 0s 5us/step - loss: 2.0371e-04\n",
      "Epoch 216/500\n",
      "2017/2017 [==============================] - 0s 5us/step - loss: 1.7094e-04\n",
      "Epoch 217/500\n",
      "2017/2017 [==============================] - 0s 5us/step - loss: 3.3492e-04\n",
      "Epoch 218/500\n",
      "2017/2017 [==============================] - 0s 5us/step - loss: 4.1433e-04\n",
      "Epoch 219/500\n",
      "2017/2017 [==============================] - 0s 6us/step - loss: 2.1653e-04\n",
      "Epoch 220/500\n",
      "2017/2017 [==============================] - 0s 5us/step - loss: 1.7180e-04\n",
      "Epoch 221/500\n",
      "2017/2017 [==============================] - 0s 7us/step - loss: 2.8102e-04\n",
      "Epoch 222/500\n",
      "2017/2017 [==============================] - 0s 6us/step - loss: 2.0545e-04\n",
      "Epoch 223/500\n",
      "2017/2017 [==============================] - 0s 5us/step - loss: 2.1576e-04\n",
      "Epoch 224/500\n",
      "2017/2017 [==============================] - 0s 5us/step - loss: 2.5202e-04\n",
      "Epoch 225/500\n",
      "2017/2017 [==============================] - 0s 5us/step - loss: 1.9068e-04\n",
      "Epoch 226/500\n",
      "2017/2017 [==============================] - 0s 5us/step - loss: 2.2952e-04\n",
      "Epoch 227/500\n",
      "2017/2017 [==============================] - 0s 5us/step - loss: 1.5953e-04\n",
      "Epoch 228/500\n",
      "2017/2017 [==============================] - 0s 5us/step - loss: 1.7356e-04\n",
      "Epoch 229/500\n",
      "2017/2017 [==============================] - 0s 6us/step - loss: 4.0264e-04\n",
      "Epoch 230/500\n",
      "2017/2017 [==============================] - 0s 5us/step - loss: 4.1283e-04\n",
      "Epoch 231/500\n",
      "2017/2017 [==============================] - 0s 5us/step - loss: 2.2906e-04\n",
      "Epoch 232/500\n",
      "2017/2017 [==============================] - 0s 6us/step - loss: 5.1285e-04\n",
      "Epoch 233/500\n",
      "2017/2017 [==============================] - 0s 5us/step - loss: 4.8257e-04\n",
      "Epoch 234/500\n",
      "2017/2017 [==============================] - 0s 5us/step - loss: 2.5137e-04\n",
      "Epoch 235/500\n",
      "2017/2017 [==============================] - 0s 6us/step - loss: 2.5248e-04\n",
      "Epoch 236/500\n",
      "2017/2017 [==============================] - 0s 5us/step - loss: 2.3391e-04\n",
      "Epoch 237/500\n",
      "2017/2017 [==============================] - 0s 5us/step - loss: 1.6058e-04\n",
      "Epoch 238/500\n",
      "2017/2017 [==============================] - 0s 5us/step - loss: 2.4610e-04\n",
      "Epoch 239/500\n",
      "2017/2017 [==============================] - 0s 5us/step - loss: 3.1360e-04\n",
      "Epoch 240/500\n",
      "2017/2017 [==============================] - 0s 5us/step - loss: 3.0466e-04\n",
      "Epoch 241/500\n",
      "2017/2017 [==============================] - 0s 6us/step - loss: 3.5751e-04\n",
      "Epoch 242/500\n",
      "2017/2017 [==============================] - 0s 5us/step - loss: 2.9780e-04\n",
      "Epoch 243/500\n",
      "2017/2017 [==============================] - 0s 6us/step - loss: 6.0014e-04\n",
      "Epoch 244/500\n",
      "2017/2017 [==============================] - 0s 5us/step - loss: 4.5337e-04\n",
      "Epoch 245/500\n",
      "2017/2017 [==============================] - 0s 6us/step - loss: 3.5327e-04\n",
      "Epoch 246/500\n",
      "2017/2017 [==============================] - 0s 6us/step - loss: 4.5310e-04\n",
      "Epoch 247/500\n",
      "2017/2017 [==============================] - 0s 6us/step - loss: 3.0154e-04\n",
      "Epoch 248/500\n",
      "2017/2017 [==============================] - 0s 5us/step - loss: 7.0748e-04\n",
      "Epoch 249/500\n",
      "2017/2017 [==============================] - 0s 5us/step - loss: 9.6858e-04\n",
      "Epoch 250/500\n",
      "2017/2017 [==============================] - 0s 5us/step - loss: 0.0065\n",
      "Epoch 251/500\n",
      "2017/2017 [==============================] - 0s 5us/step - loss: 0.0034\n",
      "Epoch 252/500\n",
      "2017/2017 [==============================] - 0s 5us/step - loss: 0.0059\n",
      "Epoch 253/500\n",
      "2017/2017 [==============================] - 0s 5us/step - loss: 0.0038\n",
      "Epoch 254/500\n",
      "2017/2017 [==============================] - 0s 5us/step - loss: 0.0058\n",
      "Epoch 255/500\n",
      "2017/2017 [==============================] - 0s 5us/step - loss: 0.0257\n",
      "Epoch 256/500\n",
      "2017/2017 [==============================] - 0s 5us/step - loss: 0.0659\n",
      "Epoch 257/500\n",
      "2017/2017 [==============================] - 0s 5us/step - loss: 0.8392\n",
      "Epoch 258/500\n",
      "2017/2017 [==============================] - 0s 6us/step - loss: 6.3741\n",
      "Epoch 259/500\n",
      "2017/2017 [==============================] - 0s 5us/step - loss: 9.7763\n",
      "Epoch 260/500\n",
      "2017/2017 [==============================] - 0s 6us/step - loss: 9.0084\n",
      "Epoch 261/500\n",
      "2017/2017 [==============================] - 0s 5us/step - loss: 1.6710\n",
      "Epoch 262/500\n",
      "2017/2017 [==============================] - 0s 5us/step - loss: 0.2542\n",
      "Epoch 263/500\n",
      "2017/2017 [==============================] - 0s 5us/step - loss: 0.1357\n",
      "Epoch 264/500\n",
      "2017/2017 [==============================] - 0s 6us/step - loss: 0.0095\n",
      "Epoch 265/500\n",
      "2017/2017 [==============================] - 0s 5us/step - loss: 0.0010\n",
      "Epoch 266/500\n",
      "2017/2017 [==============================] - 0s 5us/step - loss: 5.4264e-04\n",
      "Epoch 267/500\n",
      "2017/2017 [==============================] - 0s 6us/step - loss: 3.2901e-04\n",
      "Epoch 268/500\n",
      "2017/2017 [==============================] - 0s 5us/step - loss: 2.3526e-04\n",
      "Epoch 269/500\n",
      "2017/2017 [==============================] - 0s 5us/step - loss: 2.1998e-04\n",
      "Epoch 270/500\n",
      "2017/2017 [==============================] - 0s 7us/step - loss: 2.0081e-04\n",
      "Epoch 271/500\n",
      "2017/2017 [==============================] - 0s 5us/step - loss: 1.8309e-04\n",
      "Epoch 272/500\n",
      "2017/2017 [==============================] - 0s 5us/step - loss: 2.4877e-04\n",
      "Epoch 273/500\n",
      "2017/2017 [==============================] - 0s 5us/step - loss: 3.2663e-04\n",
      "Epoch 274/500\n",
      "2017/2017 [==============================] - 0s 6us/step - loss: 3.3852e-04\n",
      "Epoch 275/500\n",
      "2017/2017 [==============================] - 0s 5us/step - loss: 1.9542e-04\n",
      "Epoch 276/500\n",
      "2017/2017 [==============================] - 0s 5us/step - loss: 1.7786e-04\n",
      "Epoch 277/500\n",
      "2017/2017 [==============================] - 0s 6us/step - loss: 1.8790e-04\n",
      "Epoch 278/500\n",
      "2017/2017 [==============================] - 0s 5us/step - loss: 2.0101e-04\n",
      "Epoch 279/500\n",
      "2017/2017 [==============================] - 0s 6us/step - loss: 1.7976e-04\n",
      "Epoch 280/500\n",
      "2017/2017 [==============================] - 0s 5us/step - loss: 2.4646e-04\n",
      "Epoch 281/500\n",
      "2017/2017 [==============================] - 0s 5us/step - loss: 1.9783e-04\n",
      "Epoch 282/500\n",
      "2017/2017 [==============================] - 0s 5us/step - loss: 1.8321e-04\n",
      "Epoch 283/500\n",
      "2017/2017 [==============================] - 0s 6us/step - loss: 2.0066e-04\n",
      "Epoch 284/500\n",
      "2017/2017 [==============================] - 0s 5us/step - loss: 2.1135e-04\n",
      "Epoch 285/500\n",
      "2017/2017 [==============================] - 0s 5us/step - loss: 1.6389e-04\n",
      "Epoch 286/500\n",
      "2017/2017 [==============================] - 0s 5us/step - loss: 2.7341e-04\n",
      "Epoch 287/500\n",
      "2017/2017 [==============================] - 0s 5us/step - loss: 4.6265e-04\n",
      "Epoch 288/500\n",
      "2017/2017 [==============================] - 0s 5us/step - loss: 1.5984e-04\n",
      "Epoch 289/500\n",
      "2017/2017 [==============================] - 0s 5us/step - loss: 1.3861e-04\n",
      "Epoch 290/500\n",
      "2017/2017 [==============================] - 0s 5us/step - loss: 2.9214e-04\n",
      "Epoch 291/500\n",
      "2017/2017 [==============================] - 0s 5us/step - loss: 1.6391e-04\n",
      "Epoch 292/500\n",
      "2017/2017 [==============================] - 0s 5us/step - loss: 1.3872e-04\n",
      "Epoch 293/500\n",
      "2017/2017 [==============================] - 0s 5us/step - loss: 4.4438e-04\n",
      "Epoch 294/500\n",
      "2017/2017 [==============================] - 0s 5us/step - loss: 2.3584e-04\n",
      "Epoch 295/500\n",
      "2017/2017 [==============================] - 0s 5us/step - loss: 2.2714e-04\n",
      "Epoch 296/500\n",
      "2017/2017 [==============================] - 0s 5us/step - loss: 4.8281e-04\n",
      "Epoch 297/500\n",
      "2017/2017 [==============================] - 0s 5us/step - loss: 2.7408e-04\n",
      "Epoch 298/500\n",
      "2017/2017 [==============================] - 0s 5us/step - loss: 2.7609e-04\n",
      "Epoch 299/500\n",
      "2017/2017 [==============================] - 0s 5us/step - loss: 6.7942e-04\n",
      "Epoch 300/500\n",
      "2017/2017 [==============================] - 0s 5us/step - loss: 0.0029\n",
      "Epoch 301/500\n",
      "2017/2017 [==============================] - 0s 5us/step - loss: 0.0015\n",
      "Epoch 302/500\n",
      "2017/2017 [==============================] - 0s 5us/step - loss: 2.3804e-04\n",
      "Epoch 303/500\n",
      "2017/2017 [==============================] - 0s 5us/step - loss: 5.1760e-04\n",
      "Epoch 304/500\n",
      "2017/2017 [==============================] - 0s 6us/step - loss: 8.5255e-04\n",
      "Epoch 305/500\n",
      "2017/2017 [==============================] - 0s 6us/step - loss: 0.0012\n",
      "Epoch 306/500\n",
      "2017/2017 [==============================] - 0s 6us/step - loss: 4.6614e-04\n",
      "Epoch 307/500\n",
      "2017/2017 [==============================] - 0s 6us/step - loss: 2.6510e-04\n",
      "Epoch 308/500\n",
      "2017/2017 [==============================] - 0s 5us/step - loss: 5.8935e-04\n",
      "Epoch 309/500\n",
      "2017/2017 [==============================] - 0s 6us/step - loss: 5.1688e-04\n",
      "Epoch 310/500\n",
      "2017/2017 [==============================] - 0s 6us/step - loss: 0.0031\n",
      "Epoch 311/500\n",
      "2017/2017 [==============================] - 0s 6us/step - loss: 9.5801e-04\n",
      "Epoch 312/500\n",
      "2017/2017 [==============================] - 0s 6us/step - loss: 0.1082\n",
      "Epoch 313/500\n",
      "2017/2017 [==============================] - 0s 6us/step - loss: 0.7868\n",
      "Epoch 314/500\n",
      "2017/2017 [==============================] - 0s 6us/step - loss: 0.4221\n",
      "Epoch 315/500\n",
      "2017/2017 [==============================] - 0s 6us/step - loss: 7.0085\n",
      "Epoch 316/500\n",
      "2017/2017 [==============================] - 0s 5us/step - loss: 0.9314\n",
      "Epoch 317/500\n",
      "2017/2017 [==============================] - 0s 5us/step - loss: 0.1880\n",
      "Epoch 318/500\n",
      "2017/2017 [==============================] - 0s 5us/step - loss: 0.0212\n",
      "Epoch 319/500\n",
      "2017/2017 [==============================] - 0s 5us/step - loss: 0.0015\n",
      "Epoch 320/500\n",
      "2017/2017 [==============================] - 0s 5us/step - loss: 2.7731e-04\n",
      "Epoch 321/500\n",
      "2017/2017 [==============================] - 0s 6us/step - loss: 1.9143e-04\n",
      "Epoch 322/500\n",
      "2017/2017 [==============================] - 0s 5us/step - loss: 1.3748e-04\n",
      "Epoch 323/500\n",
      "2017/2017 [==============================] - 0s 5us/step - loss: 3.2399e-04\n",
      "Epoch 324/500\n",
      "2017/2017 [==============================] - 0s 6us/step - loss: 2.3900e-04\n",
      "Epoch 325/500\n",
      "2017/2017 [==============================] - 0s 5us/step - loss: 1.9313e-04\n",
      "Epoch 326/500\n",
      "2017/2017 [==============================] - 0s 5us/step - loss: 1.8481e-04\n",
      "Epoch 327/500\n",
      "2017/2017 [==============================] - 0s 5us/step - loss: 5.2767e-04\n",
      "Epoch 328/500\n",
      "2017/2017 [==============================] - 0s 5us/step - loss: 2.9060e-04\n",
      "Epoch 329/500\n",
      "2017/2017 [==============================] - 0s 5us/step - loss: 2.1253e-04\n",
      "Epoch 330/500\n",
      "2017/2017 [==============================] - 0s 5us/step - loss: 2.6296e-04\n",
      "Epoch 331/500\n",
      "2017/2017 [==============================] - 0s 5us/step - loss: 2.8673e-04\n",
      "Epoch 332/500\n",
      "2017/2017 [==============================] - 0s 6us/step - loss: 1.5972e-04\n",
      "Epoch 333/500\n",
      "2017/2017 [==============================] - 0s 6us/step - loss: 2.6632e-04\n",
      "Epoch 334/500\n",
      "2017/2017 [==============================] - 0s 5us/step - loss: 8.4993e-04\n",
      "Epoch 335/500\n",
      "2017/2017 [==============================] - 0s 5us/step - loss: 8.6867e-04\n",
      "Epoch 336/500\n",
      "2017/2017 [==============================] - 0s 5us/step - loss: 4.4434e-04\n",
      "Epoch 337/500\n",
      "2017/2017 [==============================] - 0s 5us/step - loss: 6.9138e-04\n",
      "Epoch 338/500\n",
      "2017/2017 [==============================] - 0s 5us/step - loss: 0.0051\n",
      "Epoch 339/500\n",
      "2017/2017 [==============================] - 0s 5us/step - loss: 0.0033\n",
      "Epoch 340/500\n",
      "2017/2017 [==============================] - 0s 5us/step - loss: 0.0028\n",
      "Epoch 341/500\n",
      "2017/2017 [==============================] - 0s 5us/step - loss: 0.0130\n",
      "Epoch 342/500\n",
      "2017/2017 [==============================] - 0s 6us/step - loss: 0.0259\n",
      "Epoch 343/500\n",
      "2017/2017 [==============================] - 0s 5us/step - loss: 0.0161\n",
      "Epoch 344/500\n",
      "2017/2017 [==============================] - 0s 5us/step - loss: 0.0012\n",
      "Epoch 345/500\n",
      "2017/2017 [==============================] - 0s 5us/step - loss: 0.0144\n",
      "Epoch 346/500\n",
      "2017/2017 [==============================] - 0s 6us/step - loss: 0.1891\n",
      "Epoch 347/500\n",
      "2017/2017 [==============================] - 0s 6us/step - loss: 0.0467\n",
      "Epoch 348/500\n",
      "2017/2017 [==============================] - 0s 5us/step - loss: 9.2400e-04\n",
      "Epoch 349/500\n",
      "2017/2017 [==============================] - 0s 5us/step - loss: 0.0120\n",
      "Epoch 350/500\n",
      "2017/2017 [==============================] - 0s 5us/step - loss: 0.2973\n",
      "Epoch 351/500\n",
      "2017/2017 [==============================] - 0s 5us/step - loss: 1.4227\n",
      "Epoch 352/500\n",
      "2017/2017 [==============================] - 0s 5us/step - loss: 0.0910\n",
      "Epoch 353/500\n",
      "2017/2017 [==============================] - 0s 5us/step - loss: 0.1176\n",
      "Epoch 354/500\n",
      "2017/2017 [==============================] - 0s 5us/step - loss: 0.0730\n",
      "Epoch 355/500\n",
      "2017/2017 [==============================] - 0s 5us/step - loss: 0.0217\n",
      "Epoch 356/500\n",
      "2017/2017 [==============================] - 0s 5us/step - loss: 0.0070\n",
      "Epoch 357/500\n",
      "2017/2017 [==============================] - 0s 5us/step - loss: 5.0930e-04\n",
      "Epoch 358/500\n",
      "2017/2017 [==============================] - 0s 6us/step - loss: 0.0011\n",
      "Epoch 359/500\n",
      "2017/2017 [==============================] - 0s 6us/step - loss: 0.0045\n",
      "Epoch 360/500\n",
      "2017/2017 [==============================] - 0s 5us/step - loss: 0.0077\n",
      "Epoch 361/500\n",
      "2017/2017 [==============================] - 0s 5us/step - loss: 0.0016\n",
      "Epoch 362/500\n",
      "2017/2017 [==============================] - 0s 6us/step - loss: 3.6893e-04\n",
      "Epoch 363/500\n",
      "2017/2017 [==============================] - 0s 5us/step - loss: 0.0112\n",
      "Epoch 364/500\n",
      "2017/2017 [==============================] - 0s 5us/step - loss: 0.0030\n",
      "Epoch 365/500\n",
      "2017/2017 [==============================] - 0s 5us/step - loss: 0.0177\n",
      "Epoch 366/500\n",
      "2017/2017 [==============================] - 0s 6us/step - loss: 0.1710\n",
      "Epoch 367/500\n",
      "2017/2017 [==============================] - 0s 5us/step - loss: 5.7758\n",
      "Epoch 368/500\n",
      "2017/2017 [==============================] - 0s 6us/step - loss: 0.6928\n",
      "Epoch 369/500\n",
      "2017/2017 [==============================] - 0s 5us/step - loss: 0.0549\n",
      "Epoch 370/500\n",
      "2017/2017 [==============================] - 0s 6us/step - loss: 0.0126\n",
      "Epoch 371/500\n",
      "2017/2017 [==============================] - 0s 5us/step - loss: 0.0015\n",
      "Epoch 372/500\n",
      "2017/2017 [==============================] - 0s 6us/step - loss: 3.1452e-04\n",
      "Epoch 373/500\n",
      "2017/2017 [==============================] - 0s 6us/step - loss: 1.9876e-04\n",
      "Epoch 374/500\n"
     ]
    },
    {
     "name": "stdout",
     "output_type": "stream",
     "text": [
      "2017/2017 [==============================] - 0s 6us/step - loss: 2.9096e-04\n",
      "Epoch 375/500\n",
      "2017/2017 [==============================] - 0s 6us/step - loss: 1.8567e-04\n",
      "Epoch 376/500\n",
      "2017/2017 [==============================] - 0s 5us/step - loss: 2.1923e-04\n",
      "Epoch 377/500\n",
      "2017/2017 [==============================] - 0s 5us/step - loss: 1.5376e-04\n",
      "Epoch 378/500\n",
      "2017/2017 [==============================] - 0s 6us/step - loss: 1.6551e-04\n",
      "Epoch 379/500\n",
      "2017/2017 [==============================] - 0s 5us/step - loss: 2.0471e-04\n",
      "Epoch 380/500\n",
      "2017/2017 [==============================] - 0s 5us/step - loss: 1.6968e-04\n",
      "Epoch 381/500\n",
      "2017/2017 [==============================] - 0s 5us/step - loss: 1.9856e-04\n",
      "Epoch 382/500\n",
      "2017/2017 [==============================] - 0s 6us/step - loss: 2.7649e-04\n",
      "Epoch 383/500\n",
      "2017/2017 [==============================] - 0s 5us/step - loss: 1.8964e-04\n",
      "Epoch 384/500\n",
      "2017/2017 [==============================] - 0s 5us/step - loss: 1.5833e-04\n",
      "Epoch 385/500\n",
      "2017/2017 [==============================] - 0s 5us/step - loss: 4.3420e-04\n",
      "Epoch 386/500\n",
      "2017/2017 [==============================] - 0s 5us/step - loss: 6.0331e-04\n",
      "Epoch 387/500\n",
      "2017/2017 [==============================] - 0s 5us/step - loss: 2.0878e-04\n",
      "Epoch 388/500\n",
      "2017/2017 [==============================] - 0s 5us/step - loss: 3.1138e-04\n",
      "Epoch 389/500\n",
      "2017/2017 [==============================] - 0s 6us/step - loss: 1.5566e-04\n",
      "Epoch 390/500\n",
      "2017/2017 [==============================] - 0s 5us/step - loss: 3.4317e-04\n",
      "Epoch 391/500\n",
      "2017/2017 [==============================] - 0s 6us/step - loss: 4.9547e-04\n",
      "Epoch 392/500\n",
      "2017/2017 [==============================] - 0s 6us/step - loss: 3.6273e-04\n",
      "Epoch 393/500\n",
      "2017/2017 [==============================] - 0s 6us/step - loss: 4.2270e-04\n",
      "Epoch 394/500\n",
      "2017/2017 [==============================] - 0s 6us/step - loss: 2.2757e-04\n",
      "Epoch 395/500\n",
      "2017/2017 [==============================] - 0s 5us/step - loss: 3.2481e-04\n",
      "Epoch 396/500\n",
      "2017/2017 [==============================] - 0s 6us/step - loss: 2.0418e-04\n",
      "Epoch 397/500\n",
      "2017/2017 [==============================] - 0s 5us/step - loss: 3.1363e-04\n",
      "Epoch 398/500\n",
      "2017/2017 [==============================] - 0s 5us/step - loss: 8.6663e-04\n",
      "Epoch 399/500\n",
      "2017/2017 [==============================] - 0s 6us/step - loss: 2.8182e-04\n",
      "Epoch 400/500\n",
      "2017/2017 [==============================] - 0s 6us/step - loss: 4.9725e-04\n",
      "Epoch 401/500\n",
      "2017/2017 [==============================] - 0s 5us/step - loss: 0.0022\n",
      "Epoch 402/500\n",
      "2017/2017 [==============================] - 0s 5us/step - loss: 0.0018\n",
      "Epoch 403/500\n",
      "2017/2017 [==============================] - 0s 6us/step - loss: 4.4842e-04\n",
      "Epoch 404/500\n",
      "2017/2017 [==============================] - 0s 6us/step - loss: 2.0911e-04\n",
      "Epoch 405/500\n",
      "2017/2017 [==============================] - 0s 6us/step - loss: 2.4539e-04\n",
      "Epoch 406/500\n",
      "2017/2017 [==============================] - 0s 5us/step - loss: 0.0010\n",
      "Epoch 407/500\n",
      "2017/2017 [==============================] - 0s 5us/step - loss: 0.0028\n",
      "Epoch 408/500\n",
      "2017/2017 [==============================] - 0s 5us/step - loss: 0.0087\n",
      "Epoch 409/500\n",
      "2017/2017 [==============================] - 0s 5us/step - loss: 0.0054\n",
      "Epoch 410/500\n",
      "2017/2017 [==============================] - 0s 5us/step - loss: 0.0053\n",
      "Epoch 411/500\n",
      "2017/2017 [==============================] - 0s 5us/step - loss: 3.1564e-04\n",
      "Epoch 412/500\n",
      "2017/2017 [==============================] - 0s 5us/step - loss: 0.0015\n",
      "Epoch 413/500\n",
      "2017/2017 [==============================] - 0s 5us/step - loss: 0.0148\n",
      "Epoch 414/500\n",
      "2017/2017 [==============================] - 0s 5us/step - loss: 0.1234\n",
      "Epoch 415/500\n",
      "2017/2017 [==============================] - 0s 5us/step - loss: 0.1402\n",
      "Epoch 416/500\n",
      "2017/2017 [==============================] - 0s 6us/step - loss: 0.0446\n",
      "Epoch 417/500\n",
      "2017/2017 [==============================] - 0s 6us/step - loss: 0.3218\n",
      "Epoch 418/500\n",
      "2017/2017 [==============================] - 0s 6us/step - loss: 1.9848\n",
      "Epoch 419/500\n",
      "2017/2017 [==============================] - 0s 5us/step - loss: 0.4424\n",
      "Epoch 420/500\n",
      "2017/2017 [==============================] - 0s 5us/step - loss: 0.0318\n",
      "Epoch 421/500\n",
      "2017/2017 [==============================] - 0s 6us/step - loss: 0.0046\n",
      "Epoch 422/500\n",
      "2017/2017 [==============================] - 0s 5us/step - loss: 7.7658e-04\n",
      "Epoch 423/500\n",
      "2017/2017 [==============================] - 0s 5us/step - loss: 1.8285e-04\n",
      "Epoch 424/500\n",
      "2017/2017 [==============================] - 0s 5us/step - loss: 1.6056e-04\n",
      "Epoch 425/500\n",
      "2017/2017 [==============================] - 0s 5us/step - loss: 1.3244e-04\n",
      "Epoch 426/500\n",
      "2017/2017 [==============================] - 0s 6us/step - loss: 2.6580e-04\n",
      "Epoch 427/500\n",
      "2017/2017 [==============================] - 0s 6us/step - loss: 2.3915e-04\n",
      "Epoch 428/500\n",
      "2017/2017 [==============================] - 0s 5us/step - loss: 2.6773e-04\n",
      "Epoch 429/500\n",
      "2017/2017 [==============================] - 0s 5us/step - loss: 1.6423e-04\n",
      "Epoch 430/500\n",
      "2017/2017 [==============================] - 0s 5us/step - loss: 1.8183e-04\n",
      "Epoch 431/500\n",
      "2017/2017 [==============================] - 0s 5us/step - loss: 1.6689e-04\n",
      "Epoch 432/500\n",
      "2017/2017 [==============================] - 0s 5us/step - loss: 1.5163e-04\n",
      "Epoch 433/500\n",
      "2017/2017 [==============================] - 0s 6us/step - loss: 1.8185e-04\n",
      "Epoch 434/500\n",
      "2017/2017 [==============================] - 0s 5us/step - loss: 1.8987e-04\n",
      "Epoch 435/500\n",
      "2017/2017 [==============================] - 0s 5us/step - loss: 1.6942e-04\n",
      "Epoch 436/500\n",
      "2017/2017 [==============================] - 0s 5us/step - loss: 3.5897e-04\n",
      "Epoch 437/500\n",
      "2017/2017 [==============================] - 0s 5us/step - loss: 2.8501e-04\n",
      "Epoch 438/500\n",
      "2017/2017 [==============================] - 0s 6us/step - loss: 3.1205e-04\n",
      "Epoch 439/500\n",
      "2017/2017 [==============================] - 0s 5us/step - loss: 2.6555e-04\n",
      "Epoch 440/500\n",
      "2017/2017 [==============================] - 0s 5us/step - loss: 2.2146e-04\n",
      "Epoch 441/500\n",
      "2017/2017 [==============================] - 0s 5us/step - loss: 0.0013\n",
      "Epoch 442/500\n",
      "2017/2017 [==============================] - 0s 5us/step - loss: 4.7899e-04\n",
      "Epoch 443/500\n",
      "2017/2017 [==============================] - 0s 6us/step - loss: 3.3013e-04\n",
      "Epoch 444/500\n",
      "2017/2017 [==============================] - 0s 5us/step - loss: 3.8021e-04\n",
      "Epoch 445/500\n",
      "2017/2017 [==============================] - 0s 5us/step - loss: 3.6179e-04\n",
      "Epoch 446/500\n",
      "2017/2017 [==============================] - 0s 5us/step - loss: 3.0190e-04\n",
      "Epoch 447/500\n",
      "2017/2017 [==============================] - 0s 5us/step - loss: 1.8608e-04\n",
      "Epoch 448/500\n",
      "2017/2017 [==============================] - 0s 5us/step - loss: 2.1687e-04\n",
      "Epoch 449/500\n",
      "2017/2017 [==============================] - 0s 6us/step - loss: 2.2157e-04\n",
      "Epoch 450/500\n",
      "2017/2017 [==============================] - 0s 5us/step - loss: 0.0010\n",
      "Epoch 451/500\n",
      "2017/2017 [==============================] - 0s 5us/step - loss: 6.3622e-04\n",
      "Epoch 452/500\n",
      "2017/2017 [==============================] - 0s 5us/step - loss: 3.3161e-04\n",
      "Epoch 453/500\n",
      "2017/2017 [==============================] - 0s 5us/step - loss: 0.0015\n",
      "Epoch 454/500\n",
      "2017/2017 [==============================] - 0s 6us/step - loss: 0.0011\n",
      "Epoch 455/500\n",
      "2017/2017 [==============================] - 0s 6us/step - loss: 0.0023\n",
      "Epoch 456/500\n",
      "2017/2017 [==============================] - 0s 5us/step - loss: 5.1285e-04\n",
      "Epoch 457/500\n",
      "2017/2017 [==============================] - 0s 5us/step - loss: 4.0961e-04\n",
      "Epoch 458/500\n",
      "2017/2017 [==============================] - 0s 6us/step - loss: 9.1552e-04\n",
      "Epoch 459/500\n",
      "2017/2017 [==============================] - 0s 6us/step - loss: 0.0018\n",
      "Epoch 460/500\n",
      "2017/2017 [==============================] - 0s 5us/step - loss: 0.0028\n",
      "Epoch 461/500\n",
      "2017/2017 [==============================] - 0s 5us/step - loss: 0.0011\n",
      "Epoch 462/500\n",
      "2017/2017 [==============================] - 0s 5us/step - loss: 0.0019\n",
      "Epoch 463/500\n",
      "2017/2017 [==============================] - 0s 5us/step - loss: 0.0033\n",
      "Epoch 464/500\n",
      "2017/2017 [==============================] - 0s 6us/step - loss: 0.8278\n",
      "Epoch 465/500\n",
      "2017/2017 [==============================] - 0s 7us/step - loss: 0.3212\n",
      "Epoch 466/500\n",
      "2017/2017 [==============================] - 0s 6us/step - loss: 0.0138\n",
      "Epoch 467/500\n",
      "2017/2017 [==============================] - 0s 8us/step - loss: 0.0031\n",
      "Epoch 468/500\n",
      "2017/2017 [==============================] - 0s 8us/step - loss: 7.7314e-04\n",
      "Epoch 469/500\n",
      "2017/2017 [==============================] - 0s 6us/step - loss: 3.9898e-04\n",
      "Epoch 470/500\n",
      "2017/2017 [==============================] - 0s 7us/step - loss: 1.5607e-04\n",
      "Epoch 471/500\n",
      "2017/2017 [==============================] - 0s 7us/step - loss: 1.5193e-04\n",
      "Epoch 472/500\n",
      "2017/2017 [==============================] - 0s 6us/step - loss: 1.6021e-04\n",
      "Epoch 473/500\n",
      "2017/2017 [==============================] - 0s 7us/step - loss: 2.7186e-04\n",
      "Epoch 474/500\n",
      "2017/2017 [==============================] - 0s 6us/step - loss: 2.5587e-04\n",
      "Epoch 475/500\n",
      "2017/2017 [==============================] - 0s 6us/step - loss: 2.3929e-04\n",
      "Epoch 476/500\n",
      "2017/2017 [==============================] - 0s 7us/step - loss: 2.0314e-04\n",
      "Epoch 477/500\n",
      "2017/2017 [==============================] - 0s 6us/step - loss: 2.4790e-04\n",
      "Epoch 478/500\n",
      "2017/2017 [==============================] - 0s 7us/step - loss: 1.5237e-04\n",
      "Epoch 479/500\n",
      "2017/2017 [==============================] - 0s 6us/step - loss: 2.1149e-04\n",
      "Epoch 480/500\n",
      "2017/2017 [==============================] - 0s 7us/step - loss: 4.6288e-04\n",
      "Epoch 481/500\n",
      "2017/2017 [==============================] - 0s 7us/step - loss: 5.3131e-04\n",
      "Epoch 482/500\n",
      "2017/2017 [==============================] - 0s 7us/step - loss: 2.4828e-04\n",
      "Epoch 483/500\n",
      "2017/2017 [==============================] - 0s 6us/step - loss: 3.1956e-04\n",
      "Epoch 484/500\n",
      "2017/2017 [==============================] - 0s 5us/step - loss: 1.8452e-04\n",
      "Epoch 485/500\n",
      "2017/2017 [==============================] - 0s 6us/step - loss: 1.5417e-04\n",
      "Epoch 486/500\n",
      "2017/2017 [==============================] - 0s 5us/step - loss: 9.8422e-04\n",
      "Epoch 487/500\n",
      "2017/2017 [==============================] - 0s 5us/step - loss: 2.9205e-04\n",
      "Epoch 488/500\n",
      "2017/2017 [==============================] - 0s 5us/step - loss: 5.6447e-04\n",
      "Epoch 489/500\n",
      "2017/2017 [==============================] - 0s 5us/step - loss: 4.0746e-04\n",
      "Epoch 490/500\n",
      "2017/2017 [==============================] - 0s 6us/step - loss: 0.0015\n",
      "Epoch 491/500\n",
      "2017/2017 [==============================] - 0s 6us/step - loss: 0.0027\n",
      "Epoch 492/500\n",
      "2017/2017 [==============================] - 0s 6us/step - loss: 0.0036\n",
      "Epoch 493/500\n",
      "2017/2017 [==============================] - 0s 6us/step - loss: 9.4136e-04\n",
      "Epoch 494/500\n",
      "2017/2017 [==============================] - 0s 6us/step - loss: 3.3063e-04\n",
      "Epoch 495/500\n",
      "2017/2017 [==============================] - 0s 5us/step - loss: 4.5639e-04\n",
      "Epoch 496/500\n",
      "2017/2017 [==============================] - 0s 7us/step - loss: 1.8174e-04\n",
      "Epoch 497/500\n",
      "2017/2017 [==============================] - 0s 7us/step - loss: 2.2130e-04\n",
      "Epoch 498/500\n",
      "2017/2017 [==============================] - 0s 7us/step - loss: 2.6589e-04\n",
      "Epoch 499/500\n",
      "2017/2017 [==============================] - 0s 7us/step - loss: 3.2927e-04\n",
      "Epoch 500/500\n",
      "2017/2017 [==============================] - 0s 6us/step - loss: 2.7220e-04\n"
     ]
    },
    {
     "data": {
      "text/plain": [
       "<keras.callbacks.History at 0x210aae0a240>"
      ]
     },
     "execution_count": 23,
     "metadata": {},
     "output_type": "execute_result"
    }
   ],
   "source": [
    "K.clear_session()\n",
    "\n",
    "model = Sequential()\n",
    "model.add(Dense(2, input_shape=(2,)))\n",
    "#model.add(Dense(4))\n",
    "model.add(Dense(1))\n",
    "\n",
    "model.compile(Adam(lr=0.1), 'mean_squared_error')\n",
    "\n",
    "#es = EarlyStopping(monitor='val_loss', mode='min')\n",
    "\n",
    "model.fit(X_train, y_train, batch_size = 100, epochs=500)"
   ]
  },
  {
   "cell_type": "code",
   "execution_count": 277,
   "metadata": {},
   "outputs": [
    {
     "name": "stdout",
     "output_type": "stream",
     "text": [
      "_________________________________________________________________\n",
      "Layer (type)                 Output Shape              Param #   \n",
      "=================================================================\n",
      "dense_1 (Dense)              (None, 2)                 6         \n",
      "_________________________________________________________________\n",
      "dense_2 (Dense)              (None, 1)                 3         \n",
      "=================================================================\n",
      "Total params: 9\n",
      "Trainable params: 9\n",
      "Non-trainable params: 0\n",
      "_________________________________________________________________\n"
     ]
    }
   ],
   "source": [
    "model.summary()"
   ]
  },
  {
   "cell_type": "code",
   "execution_count": 25,
   "metadata": {},
   "outputs": [],
   "source": [
    "y_test_pred = model.predict(X_test)"
   ]
  },
  {
   "cell_type": "code",
   "execution_count": 26,
   "metadata": {},
   "outputs": [
    {
     "name": "stdout",
     "output_type": "stream",
     "text": [
      "The Mean Squared Error on the Test set is:\t0.000\n"
     ]
    }
   ],
   "source": [
    "print(\"The Mean Squared Error on the Test set is:\\t{:0.3f}\".format(mse(y_test, y_test_pred)))"
   ]
  },
  {
   "cell_type": "code",
   "execution_count": 27,
   "metadata": {},
   "outputs": [
    {
     "name": "stdout",
     "output_type": "stream",
     "text": [
      "The R2 score on the Test set is:\t0.984\n"
     ]
    }
   ],
   "source": [
    "print(\"The R2 score on the Test set is:\\t{:0.3f}\".format(r2_score(y_test, y_test_pred)))"
   ]
  },
  {
   "cell_type": "code",
   "execution_count": 28,
   "metadata": {},
   "outputs": [
    {
     "data": {
      "text/plain": [
       "0.9836538108171085"
      ]
     },
     "execution_count": 28,
     "metadata": {},
     "output_type": "execute_result"
    }
   ],
   "source": [
    "r2_score(y_test, y_test_pred)"
   ]
  },
  {
   "cell_type": "code",
   "execution_count": 281,
   "metadata": {},
   "outputs": [
    {
     "data": {
      "text/plain": [
       "array([[  1, 555],\n",
       "       [  1, 398],\n",
       "       [  1, 458],\n",
       "       ...,\n",
       "       [  1, 475],\n",
       "       [  1, 500],\n",
       "       [  1, 530]], dtype=int64)"
      ]
     },
     "execution_count": 281,
     "metadata": {},
     "output_type": "execute_result"
    }
   ],
   "source": [
    "X_train"
   ]
  },
  {
   "cell_type": "code",
   "execution_count": 282,
   "metadata": {},
   "outputs": [
    {
     "data": {
      "text/plain": [
       "array([[0.035046],\n",
       "       [0.194949],\n",
       "       [0.13502 ],\n",
       "       ...,\n",
       "       [0.11496 ],\n",
       "       [0.094955],\n",
       "       [0.0549  ]])"
      ]
     },
     "execution_count": 282,
     "metadata": {},
     "output_type": "execute_result"
    }
   ],
   "source": [
    "y_train"
   ]
  },
  {
   "cell_type": "code",
   "execution_count": 283,
   "metadata": {},
   "outputs": [
    {
     "data": {
      "text/plain": [
       "array([[  1, 475]])"
      ]
     },
     "execution_count": 283,
     "metadata": {},
     "output_type": "execute_result"
    }
   ],
   "source": [
    "x = np.array([[1, 475]])\n",
    "x"
   ]
  },
  {
   "cell_type": "code",
   "execution_count": 284,
   "metadata": {},
   "outputs": [
    {
     "data": {
      "text/plain": [
       "array([[0.11330417]], dtype=float32)"
      ]
     },
     "execution_count": 284,
     "metadata": {},
     "output_type": "execute_result"
    }
   ],
   "source": [
    "model.predict(x)"
   ]
  },
  {
   "cell_type": "code",
   "execution_count": 217,
   "metadata": {},
   "outputs": [
    {
     "data": {
      "text/plain": [
       "[array([[ 1.2321368 , -0.7349999 ],\n",
       "        [-0.06293797,  0.04479545]], dtype=float32),\n",
       " array([ 0.85242814, -0.12786667], dtype=float32),\n",
       " array([[0.08328288],\n",
       "        [0.09501084]], dtype=float32),\n",
       " array([0.4912137], dtype=float32)]"
      ]
     },
     "execution_count": 217,
     "metadata": {},
     "output_type": "execute_result"
    }
   ],
   "source": [
    "model.get_weights()"
   ]
  },
  {
   "cell_type": "code",
   "execution_count": 285,
   "metadata": {},
   "outputs": [
    {
     "data": {
      "text/plain": [
       "[<matplotlib.lines.Line2D at 0x200e7972c50>]"
      ]
     },
     "execution_count": 285,
     "metadata": {},
     "output_type": "execute_result"
    },
    {
     "data": {
      "image/png": "[encoded data removed]",
      "text/plain": [
       "<Figure size 432x288 with 1 Axes>"
      ]
     },
     "metadata": {
      "needs_background": "light"
     },
     "output_type": "display_data"
    }
   ],
   "source": [
    "y_pred = model.predict(inputAs)\n",
    "df.plot(kind='scatter',\n",
    "        x='pixelz',\n",
    "        y='robotz')\n",
    "plt.plot(inputAs[:,1], y_pred, color='red')"
   ]
  },
  {
   "cell_type": "code",
   "execution_count": 289,
   "metadata": {},
   "outputs": [
    {
     "data": {
      "text/plain": [
       "array([[-0.00098842]], dtype=float32)"
      ]
     },
     "execution_count": 289,
     "metadata": {},
     "output_type": "execute_result"
    }
   ],
   "source": [
    "x = np.array([[1, 0]])\n",
    "b = model.predict(x)\n",
    "a = (model.predict(np.array([[1, 400]])) - model.predict(np.array([[1,100]])))/(400-100)\n",
    "a"
   ]
  },
  {
   "cell_type": "code",
   "execution_count": 290,
   "metadata": {},
   "outputs": [
    {
     "data": {
      "text/plain": [
       "array([[0.58280337]], dtype=float32)"
      ]
     },
     "execution_count": 290,
     "metadata": {},
     "output_type": "execute_result"
    }
   ],
   "source": [
    "b"
   ]
  },
  {
   "cell_type": "code",
   "execution_count": 291,
   "metadata": {},
   "outputs": [
    {
     "data": {
      "text/plain": [
       "array([[0.12813044]], dtype=float32)"
      ]
     },
     "execution_count": 291,
     "metadata": {},
     "output_type": "execute_result"
    }
   ],
   "source": [
    "model.predict(np.array([[1, 460]]))"
   ]
  },
  {
   "cell_type": "code",
   "execution_count": null,
   "metadata": {},
   "outputs": [],
   "source": [
    "#pixelz\n",
    "za = -0.00098842\n",
    "zb = 0.58280337"
   ]
  },
  {
   "cell_type": "code",
   "execution_count": null,
   "metadata": {},
   "outputs": [],
   "source": []
  },
  {
   "cell_type": "code",
   "execution_count": 150,
   "metadata": {},
   "outputs": [],
   "source": [
    "#laag 4 pixely\n",
    "ya4 = 0.00090453\n",
    "yb4 = 0.3967946"
   ]
  },
  {
   "cell_type": "code",
   "execution_count": 151,
   "metadata": {},
   "outputs": [],
   "source": [
    "#laag 20 pixely\n",
    "ya20 = 0.00064158\n",
    "yb20 = 0.46212077"
   ]
  },
  {
   "cell_type": "code",
   "execution_count": 152,
   "metadata": {},
   "outputs": [],
   "source": [
    "ya12 = (ya4 - ya20)/2 + ya20\n",
    "yb12 = (yb4 - yb20)/2 + yb20"
   ]
  },
  {
   "cell_type": "code",
   "execution_count": 154,
   "metadata": {},
   "outputs": [
    {
     "data": {
      "text/plain": [
       "0.0007730549999999999"
      ]
     },
     "execution_count": 154,
     "metadata": {},
     "output_type": "execute_result"
    }
   ],
   "source": [
    "ya12"
   ]
  },
  {
   "cell_type": "code",
   "execution_count": 155,
   "metadata": {},
   "outputs": [
    {
     "data": {
      "text/plain": [
       "0.42945768500000003"
      ]
     },
     "execution_count": 155,
     "metadata": {},
     "output_type": "execute_result"
    }
   ],
   "source": [
    "yb12"
   ]
  },
  {
   "cell_type": "code",
   "execution_count": 368,
   "metadata": {},
   "outputs": [
    {
     "data": {
      "text/plain": [
       "0.0007746781481481482"
      ]
     },
     "execution_count": 368,
     "metadata": {},
     "output_type": "execute_result"
    }
   ],
   "source": [
    "#pixelx\n",
    "h = 478\n",
    "aya = (ya4 - ya20)/(558-396)\n",
    "ayb = ya4 -(aya * 558)\n",
    "ay = aya * h + ayb\n",
    "ay"
   ]
  },
  {
   "cell_type": "code",
   "execution_count": 369,
   "metadata": {},
   "outputs": [
    {
     "data": {
      "text/plain": [
       "1.6231481481481479e-06"
      ]
     },
     "execution_count": 369,
     "metadata": {},
     "output_type": "execute_result"
    }
   ],
   "source": [
    "aya"
   ]
  },
  {
   "cell_type": "code",
   "execution_count": 370,
   "metadata": {},
   "outputs": [
    {
     "data": {
      "text/plain": [
       "-1.1866666666665582e-06"
      ]
     },
     "execution_count": 370,
     "metadata": {},
     "output_type": "execute_result"
    }
   ],
   "source": [
    "ayb"
   ]
  },
  {
   "cell_type": "code",
   "execution_count": 353,
   "metadata": {},
   "outputs": [
    {
     "data": {
      "text/plain": [
       "0.42905443703703705"
      ]
     },
     "execution_count": 353,
     "metadata": {},
     "output_type": "execute_result"
    }
   ],
   "source": [
    "#pixelx\n",
    "h = 478\n",
    "bya = (yb4 - yb20)/(558-396)\n",
    "byb = yb4 -(bya * 558)\n",
    "by = bya * h + byb\n",
    "by"
   ]
  },
  {
   "cell_type": "code",
   "execution_count": 371,
   "metadata": {},
   "outputs": [
    {
     "data": {
      "text/plain": [
       "-0.0004032479629629631"
      ]
     },
     "execution_count": 371,
     "metadata": {},
     "output_type": "execute_result"
    }
   ],
   "source": [
    "bya"
   ]
  },
  {
   "cell_type": "code",
   "execution_count": 372,
   "metadata": {},
   "outputs": [
    {
     "data": {
      "text/plain": [
       "0.6218069633333334"
      ]
     },
     "execution_count": 372,
     "metadata": {},
     "output_type": "execute_result"
    }
   ],
   "source": [
    "byb"
   ]
  },
  {
   "cell_type": "code",
   "execution_count": 354,
   "metadata": {},
   "outputs": [
    {
     "data": {
      "text/plain": [
       "0.5018741829629629"
      ]
     },
     "execution_count": 354,
     "metadata": {},
     "output_type": "execute_result"
    }
   ],
   "source": [
    "ypixel = 94\n",
    "xrobot = ay * ypixel + by\n",
    "xrobot"
   ]
  },
  {
   "cell_type": "code",
   "execution_count": 355,
   "metadata": {},
   "outputs": [],
   "source": [
    "#laag 4 pixelx\n",
    "xa4 = 0.00089995\n",
    "xb4 = -0.32532594"
   ]
  },
  {
   "cell_type": "code",
   "execution_count": 356,
   "metadata": {},
   "outputs": [],
   "source": [
    "#laag 20 pixelx\n",
    "xa20 = 0.00064482\n",
    "xb20 = -0.24166721"
   ]
  },
  {
   "cell_type": "code",
   "execution_count": 357,
   "metadata": {},
   "outputs": [],
   "source": [
    "xa12 = (xa4 - xa20)/2 + xa20\n",
    "xb12 = (xb4 - xb20)/2 + xb20"
   ]
  },
  {
   "cell_type": "code",
   "execution_count": 358,
   "metadata": {},
   "outputs": [
    {
     "data": {
      "text/plain": [
       "0.000772385"
      ]
     },
     "execution_count": 358,
     "metadata": {},
     "output_type": "execute_result"
    }
   ],
   "source": [
    "xa12"
   ]
  },
  {
   "cell_type": "code",
   "execution_count": 359,
   "metadata": {},
   "outputs": [
    {
     "data": {
      "text/plain": [
       "-0.283496575"
      ]
     },
     "execution_count": 359,
     "metadata": {},
     "output_type": "execute_result"
    }
   ],
   "source": [
    "xb12"
   ]
  },
  {
   "cell_type": "code",
   "execution_count": 360,
   "metadata": {},
   "outputs": [
    {
     "data": {
      "text/plain": [
       "0.00089995"
      ]
     },
     "execution_count": 360,
     "metadata": {},
     "output_type": "execute_result"
    }
   ],
   "source": [
    "#pixelx\n",
    "h = 558\n",
    "axa = (xa4 - xa20)/(558-396)\n",
    "axb = xa4 - (axa * 558)\n",
    "ax = axa * h + axb\n",
    "ax"
   ]
  },
  {
   "cell_type": "code",
   "execution_count": 361,
   "metadata": {},
   "outputs": [
    {
     "data": {
      "text/plain": [
       "1.574876543209876e-06"
      ]
     },
     "execution_count": 361,
     "metadata": {},
     "output_type": "execute_result"
    }
   ],
   "source": [
    "axa"
   ]
  },
  {
   "cell_type": "code",
   "execution_count": 362,
   "metadata": {},
   "outputs": [
    {
     "data": {
      "text/plain": [
       "2.1168888888889155e-05"
      ]
     },
     "execution_count": 362,
     "metadata": {},
     "output_type": "execute_result"
    }
   ],
   "source": [
    "axb"
   ]
  },
  {
   "cell_type": "code",
   "execution_count": 363,
   "metadata": {},
   "outputs": [
    {
     "data": {
      "text/plain": [
       "-0.32532594"
      ]
     },
     "execution_count": 363,
     "metadata": {},
     "output_type": "execute_result"
    }
   ],
   "source": [
    "#pixelx\n",
    "h = 558\n",
    "bxa = (xb4 - xb20)/(558-396)\n",
    "bxb = xb4 - (bxa * 558)\n",
    "bx = bxa * h + bxb\n",
    "bx"
   ]
  },
  {
   "cell_type": "code",
   "execution_count": 364,
   "metadata": {},
   "outputs": [
    {
     "data": {
      "text/plain": [
       "-0.0005164119135802469"
      ]
     },
     "execution_count": 364,
     "metadata": {},
     "output_type": "execute_result"
    }
   ],
   "source": [
    "bxa"
   ]
  },
  {
   "cell_type": "code",
   "execution_count": 365,
   "metadata": {},
   "outputs": [
    {
     "data": {
      "text/plain": [
       "-0.037168092222222227"
      ]
     },
     "execution_count": 365,
     "metadata": {},
     "output_type": "execute_result"
    }
   ],
   "source": [
    "bxb"
   ]
  },
  {
   "cell_type": "code",
   "execution_count": 366,
   "metadata": {},
   "outputs": [
    {
     "data": {
      "text/plain": [
       "0.13634840999999998"
      ]
     },
     "execution_count": 366,
     "metadata": {},
     "output_type": "execute_result"
    }
   ],
   "source": [
    "xpixel = 513\n",
    "yrobot = ax * xpixel + bx\n",
    "yrobot"
   ]
  },
  {
   "cell_type": "code",
   "execution_count": 387,
   "metadata": {},
   "outputs": [],
   "source": [
    "def pixel(pixelx, pixely, pixelz):\n",
    "    \n",
    "    #pixelz function variabels\n",
    "    az = -0.00098842\n",
    "    bz = 0.58280337\n",
    "    \n",
    "    robotz = az * pixelz + bz \n",
    "    \n",
    "    #pixelx function variables\n",
    "    axa = 1.574876543209876e-06\n",
    "    axb = 2.1168888888889155e-05\n",
    "    \n",
    "    bxa = -0.0005164119135802469\n",
    "    bxb = -0.037168092222222227\n",
    "    \n",
    "    #pixelx functions\n",
    "    ax = axa * pixelz + axb\n",
    "    bx = bxa * pixelz + bxb\n",
    "    \n",
    "    roboty = ax * pixelx + bx\n",
    "    \n",
    "    #pixely function variables\n",
    "    aya = 1.6231481481481479e-06\n",
    "    ayb = -1.1866666666665582e-06\n",
    "    \n",
    "    bya = -0.0004032479629629631\n",
    "    byb = 0.6218069633333334\n",
    "    \n",
    "    #pixely functions\n",
    "    ay = aya * pixelz + ayb\n",
    "    by = bya * pixelz + byb\n",
    "    \n",
    "    robotx = ay * pixely + by\n",
    "    \n",
    "    return robotx, roboty, robotz"
   ]
  },
  {
   "cell_type": "code",
   "execution_count": 388,
   "metadata": {},
   "outputs": [],
   "source": [
    "x,y,z = pixel(377,220,394)"
   ]
  },
  {
   "cell_type": "code",
   "execution_count": 389,
   "metadata": {},
   "outputs": [
    {
     "data": {
      "text/plain": [
       "0.6033606807407408"
      ]
     },
     "execution_count": 389,
     "metadata": {},
     "output_type": "execute_result"
    }
   ],
   "source": [
    "x"
   ]
  },
  {
   "cell_type": "code",
   "execution_count": 390,
   "metadata": {},
   "outputs": [
    {
     "data": {
      "text/plain": [
       "0.001275296913580276"
      ]
     },
     "execution_count": 390,
     "metadata": {},
     "output_type": "execute_result"
    }
   ],
   "source": [
    "y"
   ]
  },
  {
   "cell_type": "code",
   "execution_count": 391,
   "metadata": {},
   "outputs": [
    {
     "data": {
      "text/plain": [
       "0.19336589000000004"
      ]
     },
     "execution_count": 391,
     "metadata": {},
     "output_type": "execute_result"
    }
   ],
   "source": [
    "z"
   ]
  },
  {
   "cell_type": "code",
   "execution_count": null,
   "metadata": {},
   "outputs": [],
   "source": []
  },
  {
   "cell_type": "code",
   "execution_count": null,
   "metadata": {},
   "outputs": [],
   "source": []
  },
  {
   "cell_type": "code",
   "execution_count": null,
   "metadata": {},
   "outputs": [],
   "source": []
  },
  {
   "cell_type": "code",
   "execution_count": 31,
   "metadata": {},
   "outputs": [
    {
     "name": "stdout",
     "output_type": "stream",
     "text": [
      "<class 'pandas.core.frame.DataFrame'>\n",
      "RangeIndex: 2522 entries, 0 to 2521\n",
      "Data columns (total 7 columns):\n",
      "pixelx    2522 non-null int64\n",
      "pixely    2522 non-null int64\n",
      "pixelz    2522 non-null int64\n",
      "robotx    2522 non-null float64\n",
      "roboty    2522 non-null float64\n",
      "robotz    2522 non-null float64\n",
      "bias      2522 non-null int64\n",
      "dtypes: float64(3), int64(4)\n",
      "memory usage: 138.0 KB\n"
     ]
    }
   ],
   "source": [
    "path = 'C:/Users/Mattias/Documents/ABBP_Project/JupyterNotebook/'\n",
    "name = 'tabelklein.csv'\n",
    "df = pd.read_csv(path + name, sep = ',')\n",
    "df['bias'] = 1\n",
    "df.info()"
   ]
  },
  {
   "cell_type": "code",
   "execution_count": 32,
   "metadata": {},
   "outputs": [
    {
     "data": {
      "text/plain": [
       "array([ 4.,  6.,  8., 10., 12., 14., 16., 18., 20.])"
      ]
     },
     "execution_count": 32,
     "metadata": {},
     "output_type": "execute_result"
    }
   ],
   "source": [
    "df['groep'] = df['robotz'] * 100\n",
    "df['groep'] = df['groep'].apply(np.ceil)\n",
    "df\n",
    "groepAr = np.array(df['groep'].unique())\n",
    "groepAr"
   ]
  },
  {
   "cell_type": "code",
   "execution_count": 79,
   "metadata": {},
   "outputs": [],
   "source": [
    "dflaag4 = df[df['groep']==4]\n",
    "dflaag8 = df[df['groep']==8]\n",
    "dflaag12 = df[df['groep']==12]\n",
    "dflaag16 = df[df['groep']==16]\n",
    "dflaag20 = df[df['groep']==20]"
   ]
  },
  {
   "cell_type": "code",
   "execution_count": 80,
   "metadata": {},
   "outputs": [
    {
     "data": {
      "text/plain": [
       "<matplotlib.axes._subplots.AxesSubplot at 0x210ab50ef28>"
      ]
     },
     "execution_count": 80,
     "metadata": {},
     "output_type": "execute_result"
    },
    {
     "data": {
      "image/png": "[encoded data removed]",
      "text/plain": [
       "<Figure size 432x288 with 1 Axes>"
      ]
     },
     "metadata": {
      "needs_background": "light"
     },
     "output_type": "display_data"
    }
   ],
   "source": [
    "df.plot(kind='scatter',\n",
    "        x='pixelz',\n",
    "        y='robotz',\n",
    "        title='z pixel en z robot')"
   ]
  },
  {
   "cell_type": "code",
   "execution_count": 85,
   "metadata": {},
   "outputs": [
    {
     "data": {
      "text/html": [
       "<div>\n",
       "<style scoped>\n",
       "    .dataframe tbody tr th:only-of-type {\n",
       "        vertical-align: middle;\n",
       "    }\n",
       "\n",
       "    .dataframe tbody tr th {\n",
       "        vertical-align: top;\n",
       "    }\n",
       "\n",
       "    .dataframe thead th {\n",
       "        text-align: right;\n",
       "    }\n",
       "</style>\n",
       "<table border=\"1\" class=\"dataframe\">\n",
       "  <thead>\n",
       "    <tr style=\"text-align: right;\">\n",
       "      <th></th>\n",
       "      <th>pixelx</th>\n",
       "      <th>pixely</th>\n",
       "      <th>pixelz</th>\n",
       "      <th>robotx</th>\n",
       "      <th>roboty</th>\n",
       "      <th>robotz</th>\n",
       "      <th>bias</th>\n",
       "      <th>groep</th>\n",
       "    </tr>\n",
       "  </thead>\n",
       "  <tbody>\n",
       "    <tr>\n",
       "      <th>2311</th>\n",
       "      <td>602</td>\n",
       "      <td>438</td>\n",
       "      <td>390</td>\n",
       "      <td>0.743805</td>\n",
       "      <td>0.140265</td>\n",
       "      <td>0.194885</td>\n",
       "      <td>1</td>\n",
       "      <td>20.0</td>\n",
       "    </tr>\n",
       "    <tr>\n",
       "      <th>2312</th>\n",
       "      <td>601</td>\n",
       "      <td>406</td>\n",
       "      <td>390</td>\n",
       "      <td>0.723789</td>\n",
       "      <td>0.140300</td>\n",
       "      <td>0.194936</td>\n",
       "      <td>1</td>\n",
       "      <td>20.0</td>\n",
       "    </tr>\n",
       "    <tr>\n",
       "      <th>2313</th>\n",
       "      <td>601</td>\n",
       "      <td>375</td>\n",
       "      <td>391</td>\n",
       "      <td>0.703806</td>\n",
       "      <td>0.140233</td>\n",
       "      <td>0.194901</td>\n",
       "      <td>1</td>\n",
       "      <td>20.0</td>\n",
       "    </tr>\n",
       "    <tr>\n",
       "      <th>2314</th>\n",
       "      <td>600</td>\n",
       "      <td>343</td>\n",
       "      <td>391</td>\n",
       "      <td>0.683804</td>\n",
       "      <td>0.140225</td>\n",
       "      <td>0.194873</td>\n",
       "      <td>1</td>\n",
       "      <td>20.0</td>\n",
       "    </tr>\n",
       "    <tr>\n",
       "      <th>2315</th>\n",
       "      <td>599</td>\n",
       "      <td>312</td>\n",
       "      <td>392</td>\n",
       "      <td>0.663804</td>\n",
       "      <td>0.140311</td>\n",
       "      <td>0.194902</td>\n",
       "      <td>1</td>\n",
       "      <td>20.0</td>\n",
       "    </tr>\n",
       "  </tbody>\n",
       "</table>\n",
       "</div>"
      ],
      "text/plain": [
       "      pixelx  pixely  pixelz    robotx    roboty    robotz  bias  groep\n",
       "2311     602     438     390  0.743805  0.140265  0.194885     1   20.0\n",
       "2312     601     406     390  0.723789  0.140300  0.194936     1   20.0\n",
       "2313     601     375     391  0.703806  0.140233  0.194901     1   20.0\n",
       "2314     600     343     391  0.683804  0.140225  0.194873     1   20.0\n",
       "2315     599     312     392  0.663804  0.140311  0.194902     1   20.0"
      ]
     },
     "execution_count": 85,
     "metadata": {},
     "output_type": "execute_result"
    }
   ],
   "source": [
    "dflaag20.head()"
   ]
  },
  {
   "cell_type": "code",
   "execution_count": 105,
   "metadata": {},
   "outputs": [
    {
     "ename": "KeyError",
     "evalue": "'None of [2311      2\\n2312      0\\n2313      1\\n2314      0\\n2315      0\\n2316      0\\n2317      1\\n2318     21\\n2319     20\\n2320     17\\n2321     16\\n2322     17\\n2323     17\\n2324      0\\n2325    208\\n2326    177\\n2327    146\\n2328    112\\n2329     81\\n2330     52\\n2331     20\\n2332      0\\n2333     33\\n2334     72\\n2335    104\\n2336    130\\n2337    163\\n2338    195\\n2339    196\\n2340    131\\n       ... \\n2492     64\\n2493    131\\n2494    128\\n2495    129\\n2496      2\\n2497      2\\n2498      1\\n2499      0\\n2500      1\\n2501      0\\n2502      0\\n2503      1\\n2504    129\\n2505    128\\n2506    128\\n2507    128\\n2508    138\\n2509    128\\n2510     32\\n2511      0\\n2512     32\\n2513      0\\n2514      0\\n2515     32\\n2516      0\\n2517     32\\n2518    129\\n2519    160\\n2520    130\\n2521      0\\nLength: 211, dtype: int64] are in the [index]'",
     "output_type": "error",
     "traceback": [
      "\u001b[1;31m---------------------------------------------------------------------------\u001b[0m",
      "\u001b[1;31mKeyError\u001b[0m                                  Traceback (most recent call last)",
      "\u001b[1;32m<ipython-input-105-1fee800f3f47>\u001b[0m in \u001b[0;36m<module>\u001b[1;34m\u001b[0m\n\u001b[1;32m----> 1\u001b[1;33m \u001b[0mdf_sort4\u001b[0m \u001b[1;33m=\u001b[0m \u001b[0mdflaag20\u001b[0m\u001b[1;33m.\u001b[0m\u001b[0mloc\u001b[0m\u001b[1;33m[\u001b[0m\u001b[1;33m(\u001b[0m\u001b[0mdflaag20\u001b[0m\u001b[1;33m[\u001b[0m\u001b[1;34m'pixelx'\u001b[0m\u001b[1;33m]\u001b[0m\u001b[1;33m-\u001b[0m\u001b[1;36m320\u001b[0m\u001b[1;33m)\u001b[0m\u001b[1;33m.\u001b[0m\u001b[0mabs\u001b[0m\u001b[1;33m(\u001b[0m\u001b[1;33m)\u001b[0m \u001b[1;33m&\u001b[0m \u001b[1;33m(\u001b[0m\u001b[0mdflaag20\u001b[0m\u001b[1;33m[\u001b[0m\u001b[1;34m'pixely'\u001b[0m\u001b[1;33m]\u001b[0m\u001b[1;33m-\u001b[0m\u001b[1;36m240\u001b[0m\u001b[1;33m)\u001b[0m\u001b[1;33m.\u001b[0m\u001b[0mabs\u001b[0m\u001b[1;33m(\u001b[0m\u001b[1;33m)\u001b[0m\u001b[1;33m]\u001b[0m\u001b[1;33m\u001b[0m\u001b[1;33m\u001b[0m\u001b[0m\n\u001b[0m",
      "\u001b[1;32m~\\Anaconda3\\envs\\ztdl\\lib\\site-packages\\pandas\\core\\indexing.py\u001b[0m in \u001b[0;36m__getitem__\u001b[1;34m(self, key)\u001b[0m\n\u001b[0;32m   1476\u001b[0m \u001b[1;33m\u001b[0m\u001b[0m\n\u001b[0;32m   1477\u001b[0m             \u001b[0mmaybe_callable\u001b[0m \u001b[1;33m=\u001b[0m \u001b[0mcom\u001b[0m\u001b[1;33m.\u001b[0m\u001b[0m_apply_if_callable\u001b[0m\u001b[1;33m(\u001b[0m\u001b[0mkey\u001b[0m\u001b[1;33m,\u001b[0m \u001b[0mself\u001b[0m\u001b[1;33m.\u001b[0m\u001b[0mobj\u001b[0m\u001b[1;33m)\u001b[0m\u001b[1;33m\u001b[0m\u001b[1;33m\u001b[0m\u001b[0m\n\u001b[1;32m-> 1478\u001b[1;33m             \u001b[1;32mreturn\u001b[0m \u001b[0mself\u001b[0m\u001b[1;33m.\u001b[0m\u001b[0m_getitem_axis\u001b[0m\u001b[1;33m(\u001b[0m\u001b[0mmaybe_callable\u001b[0m\u001b[1;33m,\u001b[0m \u001b[0maxis\u001b[0m\u001b[1;33m=\u001b[0m\u001b[0maxis\u001b[0m\u001b[1;33m)\u001b[0m\u001b[1;33m\u001b[0m\u001b[1;33m\u001b[0m\u001b[0m\n\u001b[0m\u001b[0;32m   1479\u001b[0m \u001b[1;33m\u001b[0m\u001b[0m\n\u001b[0;32m   1480\u001b[0m     \u001b[1;32mdef\u001b[0m \u001b[0m_is_scalar_access\u001b[0m\u001b[1;33m(\u001b[0m\u001b[0mself\u001b[0m\u001b[1;33m,\u001b[0m \u001b[0mkey\u001b[0m\u001b[1;33m)\u001b[0m\u001b[1;33m:\u001b[0m\u001b[1;33m\u001b[0m\u001b[1;33m\u001b[0m\u001b[0m\n",
      "\u001b[1;32m~\\Anaconda3\\envs\\ztdl\\lib\\site-packages\\pandas\\core\\indexing.py\u001b[0m in \u001b[0;36m_getitem_axis\u001b[1;34m(self, key, axis)\u001b[0m\n\u001b[0;32m   1899\u001b[0m                     \u001b[1;32mraise\u001b[0m \u001b[0mValueError\u001b[0m\u001b[1;33m(\u001b[0m\u001b[1;34m'Cannot index with multidimensional key'\u001b[0m\u001b[1;33m)\u001b[0m\u001b[1;33m\u001b[0m\u001b[1;33m\u001b[0m\u001b[0m\n\u001b[0;32m   1900\u001b[0m \u001b[1;33m\u001b[0m\u001b[0m\n\u001b[1;32m-> 1901\u001b[1;33m                 \u001b[1;32mreturn\u001b[0m \u001b[0mself\u001b[0m\u001b[1;33m.\u001b[0m\u001b[0m_getitem_iterable\u001b[0m\u001b[1;33m(\u001b[0m\u001b[0mkey\u001b[0m\u001b[1;33m,\u001b[0m \u001b[0maxis\u001b[0m\u001b[1;33m=\u001b[0m\u001b[0maxis\u001b[0m\u001b[1;33m)\u001b[0m\u001b[1;33m\u001b[0m\u001b[1;33m\u001b[0m\u001b[0m\n\u001b[0m\u001b[0;32m   1902\u001b[0m \u001b[1;33m\u001b[0m\u001b[0m\n\u001b[0;32m   1903\u001b[0m             \u001b[1;31m# nested tuple slicing\u001b[0m\u001b[1;33m\u001b[0m\u001b[1;33m\u001b[0m\u001b[1;33m\u001b[0m\u001b[0m\n",
      "\u001b[1;32m~\\Anaconda3\\envs\\ztdl\\lib\\site-packages\\pandas\\core\\indexing.py\u001b[0m in \u001b[0;36m_getitem_iterable\u001b[1;34m(self, key, axis)\u001b[0m\n\u001b[0;32m   1161\u001b[0m                     \u001b[0mresult\u001b[0m \u001b[1;33m=\u001b[0m \u001b[0mself\u001b[0m\u001b[1;33m.\u001b[0m\u001b[0mobj\u001b[0m\u001b[1;33m.\u001b[0m\u001b[0m_take\u001b[0m\u001b[1;33m(\u001b[0m\u001b[0mindexer\u001b[0m\u001b[1;33m[\u001b[0m\u001b[0mindexer\u001b[0m \u001b[1;33m!=\u001b[0m \u001b[1;33m-\u001b[0m\u001b[1;36m1\u001b[0m\u001b[1;33m]\u001b[0m\u001b[1;33m,\u001b[0m \u001b[0maxis\u001b[0m\u001b[1;33m=\u001b[0m\u001b[0maxis\u001b[0m\u001b[1;33m)\u001b[0m\u001b[1;33m\u001b[0m\u001b[1;33m\u001b[0m\u001b[0m\n\u001b[0;32m   1162\u001b[0m \u001b[1;33m\u001b[0m\u001b[0m\n\u001b[1;32m-> 1163\u001b[1;33m                     \u001b[0mself\u001b[0m\u001b[1;33m.\u001b[0m\u001b[0m_validate_read_indexer\u001b[0m\u001b[1;33m(\u001b[0m\u001b[0mkey\u001b[0m\u001b[1;33m,\u001b[0m \u001b[0mnew_indexer\u001b[0m\u001b[1;33m,\u001b[0m \u001b[0maxis\u001b[0m\u001b[1;33m)\u001b[0m\u001b[1;33m\u001b[0m\u001b[1;33m\u001b[0m\u001b[0m\n\u001b[0m\u001b[0;32m   1164\u001b[0m                     result = result._reindex_with_indexers(\n\u001b[0;32m   1165\u001b[0m                         \u001b[1;33m{\u001b[0m\u001b[0maxis\u001b[0m\u001b[1;33m:\u001b[0m \u001b[1;33m[\u001b[0m\u001b[0mnew_target\u001b[0m\u001b[1;33m,\u001b[0m \u001b[0mnew_indexer\u001b[0m\u001b[1;33m]\u001b[0m\u001b[1;33m}\u001b[0m\u001b[1;33m,\u001b[0m\u001b[1;33m\u001b[0m\u001b[1;33m\u001b[0m\u001b[0m\n",
      "\u001b[1;32m~\\Anaconda3\\envs\\ztdl\\lib\\site-packages\\pandas\\core\\indexing.py\u001b[0m in \u001b[0;36m_validate_read_indexer\u001b[1;34m(self, key, indexer, axis)\u001b[0m\n\u001b[0;32m   1204\u001b[0m                 raise KeyError(\n\u001b[0;32m   1205\u001b[0m                     u\"None of [{key}] are in the [{axis}]\".format(\n\u001b[1;32m-> 1206\u001b[1;33m                         key=key, axis=self.obj._get_axis_name(axis)))\n\u001b[0m\u001b[0;32m   1207\u001b[0m \u001b[1;33m\u001b[0m\u001b[0m\n\u001b[0;32m   1208\u001b[0m             \u001b[1;31m# we skip the warning on Categorical/Interval\u001b[0m\u001b[1;33m\u001b[0m\u001b[1;33m\u001b[0m\u001b[1;33m\u001b[0m\u001b[0m\n",
      "\u001b[1;31mKeyError\u001b[0m: 'None of [2311      2\\n2312      0\\n2313      1\\n2314      0\\n2315      0\\n2316      0\\n2317      1\\n2318     21\\n2319     20\\n2320     17\\n2321     16\\n2322     17\\n2323     17\\n2324      0\\n2325    208\\n2326    177\\n2327    146\\n2328    112\\n2329     81\\n2330     52\\n2331     20\\n2332      0\\n2333     33\\n2334     72\\n2335    104\\n2336    130\\n2337    163\\n2338    195\\n2339    196\\n2340    131\\n       ... \\n2492     64\\n2493    131\\n2494    128\\n2495    129\\n2496      2\\n2497      2\\n2498      1\\n2499      0\\n2500      1\\n2501      0\\n2502      0\\n2503      1\\n2504    129\\n2505    128\\n2506    128\\n2507    128\\n2508    138\\n2509    128\\n2510     32\\n2511      0\\n2512     32\\n2513      0\\n2514      0\\n2515     32\\n2516      0\\n2517     32\\n2518    129\\n2519    160\\n2520    130\\n2521      0\\nLength: 211, dtype: int64] are in the [index]'"
     ]
    }
   ],
   "source": [
    "df_sort4 = dflaag20.loc[(dflaag20['pixelx']-320).abs() & (dflaag20['pixely']-240).abs()]"
   ]
  },
  {
   "cell_type": "code",
   "execution_count": 89,
   "metadata": {},
   "outputs": [
    {
     "data": {
      "text/html": [
       "<div>\n",
       "<style scoped>\n",
       "    .dataframe tbody tr th:only-of-type {\n",
       "        vertical-align: middle;\n",
       "    }\n",
       "\n",
       "    .dataframe tbody tr th {\n",
       "        vertical-align: top;\n",
       "    }\n",
       "\n",
       "    .dataframe thead th {\n",
       "        text-align: right;\n",
       "    }\n",
       "</style>\n",
       "<table border=\"1\" class=\"dataframe\">\n",
       "  <thead>\n",
       "    <tr style=\"text-align: right;\">\n",
       "      <th></th>\n",
       "      <th>pixelx</th>\n",
       "      <th>pixely</th>\n",
       "      <th>pixelz</th>\n",
       "      <th>robotx</th>\n",
       "      <th>roboty</th>\n",
       "      <th>robotz</th>\n",
       "      <th>bias</th>\n",
       "      <th>groep</th>\n",
       "    </tr>\n",
       "  </thead>\n",
       "  <tbody>\n",
       "  </tbody>\n",
       "</table>\n",
       "</div>"
      ],
      "text/plain": [
       "Empty DataFrame\n",
       "Columns: [pixelx, pixely, pixelz, robotx, roboty, robotz, bias, groep]\n",
       "Index: []"
      ]
     },
     "execution_count": 89,
     "metadata": {},
     "output_type": "execute_result"
    }
   ],
   "source": [
    "df_sort3"
   ]
  },
  {
   "cell_type": "code",
   "execution_count": null,
   "metadata": {},
   "outputs": [],
   "source": []
  },
  {
   "cell_type": "code",
   "execution_count": null,
   "metadata": {},
   "outputs": [],
   "source": []
  }
 ],
 "metadata": {
  "kernelspec": {
   "display_name": "Python 3",
   "language": "python",
   "name": "python3"
  },
  "language_info": {
   "codemirror_mode": {
    "name": "ipython",
    "version": 3
   },
   "file_extension": ".py",
   "mimetype": "text/x-python",
   "name": "python",
   "nbconvert_exporter": "python",
   "pygments_lexer": "ipython3",
   "version": "3.6.8"
  }
 },
 "nbformat": 4,
 "nbformat_minor": 2
}
