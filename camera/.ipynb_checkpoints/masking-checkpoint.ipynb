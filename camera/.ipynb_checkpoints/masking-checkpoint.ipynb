{
 "cells": [
  {
   "cell_type": "code",
   "execution_count": 2,
   "metadata": {},
   "outputs": [],
   "source": [
    "import numpy as np\n",
    "from imutils.video import VideoStream\n",
    "import pyrealsense2 as rs\n",
    "\n",
    "import cv2\n",
    "import imutils\n",
    "# import tensorflow as tf\n",
    "# from keras.models import Sequential\n",
    "# from keras.layers import Dense\n",
    "# from keras.optimizers import Adam\n",
    "# from collections import deque"
   ]
  },
  {
   "cell_type": "code",
   "execution_count": 8,
   "metadata": {},
   "outputs": [],
   "source": [
    "vs = cv2.VideoCapture(1)\n",
    "\n",
    "while (vs.isOpened()):\n",
    "    # Capture frame-by-frame\n",
    "    ret, frame = vs.read()    \n",
    "#     resize frame\n",
    "    frame = imutils.resize(frame, width=600)\n",
    "\n",
    "    # show frames to screen\n",
    "    cv2.imshow(\"Frame\", np.hstack([frame]))\n",
    "    if cv2.waitKey(1) & 0xFF == ord('q'):\n",
    "        break\n",
    "    \n",
    "vs.release()\n",
    "cv2.destroyAllWindows()"
   ]
  },
  {
   "cell_type": "code",
   "execution_count": 16,
   "metadata": {},
   "outputs": [
    {
     "ename": "IndentationError",
     "evalue": "unexpected unindent (<ipython-input-16-9118eae170dc>, line 29)",
     "output_type": "error",
     "traceback": [
      "\u001b[0;36m  File \u001b[0;32m\"<ipython-input-16-9118eae170dc>\"\u001b[0;36m, line \u001b[0;32m29\u001b[0m\n\u001b[0;31m    finally:\u001b[0m\n\u001b[0m            ^\u001b[0m\n\u001b[0;31mIndentationError\u001b[0m\u001b[0;31m:\u001b[0m unexpected unindent\n"
     ]
    }
   ],
   "source": [
    "# Declare RealSense pipeline, encapsulating the actual device and sensors\n",
    "pipe = rs.pipeline()\n",
    "\n",
    "# Build config object and request pose data\n",
    "cfg = rs.config()\n",
    "# cfg.enable_stream(rs.stream.pose, rs.stream.depth, 1280, 720, rs.format.z16, 6)\n",
    "# cfg.enable_stream(rs.stream.pose)\n",
    "cfg.enable_stream(rs.stream.pose, 640, 360, rs.format.z16, 30)\n",
    "\n",
    "# Start streaming with requested config\n",
    "pipe.start(cfg)\n",
    "\n",
    "if cfg.is_streaming():\n",
    "    try:\n",
    "        for _ in range(500):\n",
    "            # Wait for the next set of frames from the camera\n",
    "            frames = pipe.wait_for_frames()\n",
    "\n",
    "            # Fetch pose frame\n",
    "            pose = frames.get_pose_frame()\n",
    "            if pose:\n",
    "                # Print some of the pose data to the terminal\n",
    "                data = pose.get_pose_data()\n",
    "                print(\"Frame #{}\".format(pose.frame_number))\n",
    "                print(\"Position: {}\".format(data.translation))\n",
    "                print(\"Velocity: {}\".format(data.velocity))\n",
    "                print(\"Acceleration: {}\\n\".format(data.acceleration))\n",
    "\n",
    "finally:\n",
    "    pipe.stop()"
   ]
  },
  {
   "cell_type": "code",
   "execution_count": null,
   "metadata": {},
   "outputs": [],
   "source": [
    "import sys\n",
    "print (sys.executable)"
   ]
  },
  {
   "cell_type": "code",
   "execution_count": null,
   "metadata": {},
   "outputs": [],
   "source": []
  }
 ],
 "metadata": {
  "kernelspec": {
   "display_name": "Python 3",
   "language": "python",
   "name": "python3"
  },
  "language_info": {
   "codemirror_mode": {
    "name": "ipython",
    "version": 3
   },
   "file_extension": ".py",
   "mimetype": "text/x-python",
   "name": "python",
   "nbconvert_exporter": "python",
   "pygments_lexer": "ipython3",
   "version": "3.7.3"
  }
 },
 "nbformat": 4,
 "nbformat_minor": 2
}
